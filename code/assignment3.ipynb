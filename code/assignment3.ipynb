{
 "cells": [
  {
   "cell_type": "markdown",
   "id": "fW30c_T104W-",
   "metadata": {
    "id": "fW30c_T104W-"
   },
   "source": [
    "# DL2023 Assignment 3\n",
    "\n",
    "VH: Textblocks that start with 'VH' means that I inserted that block.\n",
    "\n",
    "\n",
    "---\n",
    "\n",
    "VH: The structure of the helper files and images has to be of the following structure in order to run properly:\n",
    "```bash\n",
    "- code\n",
    "    |- flickr8k_split (unziped)\n",
    "    |- test_examples\n",
    "    |- assignment3.ipynb\n",
    "    |- evaluate.py\n",
    "    |- get_loader.py\n",
    "    |- model.py\n",
    "    |- utils.py\n",
    "```"
   ]
  },
  {
   "cell_type": "markdown",
   "id": "j9p1R1jA2AfV",
   "metadata": {
    "id": "j9p1R1jA2AfV"
   },
   "source": [
    "VH: Model description\n",
    "\n",
    "### Encoder\n",
    "Type: Convolutional Neutral Network\n",
    "Input: Images\n",
    "Output: Image features\n",
    "\n",
    "The EncoderCNN takes an image as an input, applies a pre-trained CNN model - ResNet-50 - with pretrained weights models.ResNet50_Weights.IMAGENET1K_V2 from the ImageNet. It does output the image features that can be further used by the captioning model (the decoder) for generating captions.\n",
    "\n",
    "More precisly, in the 'forward' method, the input 'images' are passed through the pre-trained ResNet-50 model. The output features are then batch-normalized, passed through the ReLU activation function, and finally, dropout is applied to the features before returning them.\n",
    "\n",
    "##### Changes compared to the original model:\n",
    "- Using the pretrained weights IMAGENET1K_V2 of the resnet50 model to improve the accuracy.\n",
    "- Added Batch-Normlization to speed up training time and improving the model's performance by normalizing the inputs to each layer.\n",
    "\n",
    "\n",
    "### Decoder\n",
    "Type: Recurrent Neural Network with Gated Recurrent Unit (GRU) architecture.\n",
    "Input: Image features and captions\n",
    "Output: Predicted word scores for each time step\n",
    "\n",
    "The DecoderRNN class takes image features and captions as input and generates predicted word scores at each time step using the GRU architecture. These scores can be used for further steps like generating captions or computing the loss during training.\n",
    "\n",
    "More precisly, in the 'forward' method, the input 'features' (image features) and 'captions' are passed through the embedding layer to get the embedded captions. Important here is to mention, that during training, the teacher forcing mechanism is used, ie the predictions of the previous step are not considered for the current step. The image features are concatenated with the embedded captions. Theses embeddings are then passed through the GRU layer, producing hidden states at each time step. Finally, the hidden states are passed through the linear layer to obtain the predicted word scores.\n",
    "\n",
    "##### Changes compared to the original model:\n",
    "- Using a different architecture such as the GRU network instead of the RNN network.\n",
    "\n",
    "### Training Process\n",
    "This training procedure trains the model over 301 epochs, using batches of size 256. The model is optimized using the Adam optimizer with a learning rate of 1e-4. The loss is computed using CrossEntropyLoss, and gradient clipping is applied to prevent unstable gradient updates. The procedure iterates through the dataset, updating the model's parameters to minimize the loss and improve the model's performance. However fine-tuning the CNN is not used. \n",
    "\n",
    "#### Changes compared to the original training process\n",
    "- Gradient clipping is used to prevent exploding gradients and improve the stability of the training process.\n",
    "\n",
    "---"
   ]
  },
  {
   "cell_type": "markdown",
   "id": "wgJRBDgt2XyV",
   "metadata": {
    "id": "wgJRBDgt2XyV"
   },
   "source": [
    "VH: To load the python scripts, we need to add the folder of the python scripts to the system ."
   ]
  },
  {
   "cell_type": "code",
   "execution_count": 1,
   "id": "8hfJbMN-2asO",
   "metadata": {
    "id": "8hfJbMN-2asO"
   },
   "outputs": [],
   "source": [
    "import sys\n",
    "sys.path.append('code')"
   ]
  },
  {
   "cell_type": "markdown",
   "id": "983863ff",
   "metadata": {
    "id": "983863ff"
   },
   "source": [
    "### Warning\n",
    "\n",
    "The code for this baseline is adopted mainly from the above link:\n",
    "https://github.com/aladdinpersson/Machine-Learning-Collection/tree/master/ML/Pytorch/more_advanced/image_captioning\n"
   ]
  },
  {
   "cell_type": "code",
   "execution_count": 2,
   "id": "d2089c1e",
   "metadata": {
    "colab": {
     "base_uri": "https://localhost:8080/",
     "height": 1000
    },
    "id": "d2089c1e",
    "outputId": "8341beec-b324-4282-c0ad-3e83d3bfc4da"
   },
   "outputs": [],
   "source": [
    "import os \n",
    "import json\n",
    "import torch\n",
    "from tqdm import tqdm\n",
    "import torch.nn as nn\n",
    "import torch.optim as optim\n",
    "import torchvision.transforms as transforms\n",
    "from torch.utils.tensorboard import SummaryWriter\n",
    "from utils import save_checkpoint, load_checkpoint, print_examples\n",
    "from get_loader import get_loader, build_vocab\n",
    "from get_loader import transform_data as transform\n",
    "from model import CNNtoRNN\n",
    "from evaluate import evaluate_dataset_new"
   ]
  },
  {
   "cell_type": "markdown",
   "id": "509ca03d",
   "metadata": {
    "id": "509ca03d"
   },
   "source": [
    "### Define vocabulary"
   ]
  },
  {
   "cell_type": "code",
   "execution_count": 3,
   "id": "cd40478f",
   "metadata": {
    "id": "cd40478f"
   },
   "outputs": [],
   "source": [
    "vocab = build_vocab(\"flickr8k_split/captions.txt\", freq_threshold = 5)"
   ]
  },
  {
   "cell_type": "markdown",
   "id": "6c83d8c9",
   "metadata": {
    "id": "6c83d8c9"
   },
   "source": [
    "### Define hyperparameters"
   ]
  },
  {
   "cell_type": "code",
   "execution_count": 4,
   "id": "3640c3e0",
   "metadata": {
    "id": "3640c3e0"
   },
   "outputs": [
    {
     "name": "stdout",
     "output_type": "stream",
     "text": [
      "cuda\n"
     ]
    }
   ],
   "source": [
    "torch.backends.cudnn.benchmark = True\n",
    "device = torch.device(\"cuda\" if torch.cuda.is_available() else \"cpu\")\n",
    "print(device)\n",
    "load_model = False\n",
    "save_model = True\n",
    "train_CNN = False\n",
    "\n",
    "# Hyperparameters\n",
    "batch_size = 256\n",
    "embed_size = 128\n",
    "hidden_size = 128\n",
    "vocab_size = len(vocab)\n",
    "num_layers = 1\n",
    "learning_rate = 1e-4\n",
    "num_epochs = 301"
   ]
  },
  {
   "cell_type": "code",
   "execution_count": 5,
   "id": "00d187ef",
   "metadata": {
    "id": "00d187ef"
   },
   "outputs": [],
   "source": [
    "run_name = 'baseline'\n",
    "output_dir = os.path.join('checkpoints', run_name)\n",
    "os.makedirs(output_dir , exist_ok= True)\n",
    "step = 0"
   ]
  },
  {
   "cell_type": "markdown",
   "id": "8b8b7471",
   "metadata": {
    "id": "8b8b7471"
   },
   "source": [
    "### Define train and test loaders"
   ]
  },
  {
   "cell_type": "code",
   "execution_count": 6,
   "id": "48e1420a",
   "metadata": {
    "id": "48e1420a"
   },
   "outputs": [],
   "source": [
    "train_loader, dataset = get_loader(\n",
    "    root_folder=\"flickr8k_split/train_images\",\n",
    "    annotation_file=\"flickr8k_split/train_captions.txt\",\n",
    "    transform=transform,\n",
    "    vocab = vocab, # None\n",
    "    num_workers=8,\n",
    "    batch_size = batch_size\n",
    ")\n",
    "\n",
    "\n",
    "val_loader, _ = get_loader(\n",
    "    root_folder=\"flickr8k_split/val_images\",\n",
    "    annotation_file=\"flickr8k_split/val_captions.txt\",\n",
    "    transform=transform,\n",
    "    vocab = vocab, #dataset.vocab,\n",
    "    num_workers=1,\n",
    "    batch_size = 5,\n",
    "    shuffle = False,\n",
    ") "
   ]
  },
  {
   "cell_type": "markdown",
   "id": "eb7e2e92",
   "metadata": {
    "id": "eb7e2e92"
   },
   "source": [
    "### Define another train loder that is used to evaluate BLEU-1 score"
   ]
  },
  {
   "cell_type": "code",
   "execution_count": 7,
   "id": "fe5f4533",
   "metadata": {
    "id": "fe5f4533"
   },
   "outputs": [],
   "source": [
    "train_loader_eval, _ = get_loader(\n",
    "    root_folder=\"flickr8k_split/train_images\",\n",
    "    annotation_file=\"flickr8k_split/train_captions.txt\",\n",
    "    transform=transform,\n",
    "    vocab = vocab, # None\n",
    "    num_workers=1,\n",
    "    batch_size = 5, # each image has 5 different GT captions, for each batch we will load only one image and corresponding captions\n",
    "    shuffle = False,\n",
    ")"
   ]
  },
  {
   "cell_type": "markdown",
   "id": "58f2930c",
   "metadata": {
    "id": "58f2930c"
   },
   "source": [
    "### Define your model and optimizers. "
   ]
  },
  {
   "cell_type": "code",
   "execution_count": 8,
   "id": "797a4f30",
   "metadata": {
    "id": "797a4f30"
   },
   "outputs": [],
   "source": [
    "# initialize model, loss etc\n",
    "model = CNNtoRNN(embed_size, hidden_size, vocab_size, num_layers).to(device)\n",
    "criterion = nn.CrossEntropyLoss(ignore_index=vocab.stoi[\"<PAD>\"]) # it will ignore 'PAD' words \n",
    "optimizer = optim.Adam(model.parameters(), lr=learning_rate)"
   ]
  },
  {
   "cell_type": "code",
   "execution_count": 9,
   "id": "4059e919",
   "metadata": {
    "id": "4059e919"
   },
   "outputs": [],
   "source": [
    "# Only finetune the CNN\n",
    "for name, param in model.encoderCNN.resnet50.named_parameters():\n",
    "    if \"fc.weight\" in name or \"fc.bias\" in name:\n",
    "        param.requires_grad = True\n",
    "    else:\n",
    "        param.requires_grad = train_CNN"
   ]
  },
  {
   "cell_type": "code",
   "execution_count": 10,
   "id": "55dff17c",
   "metadata": {
    "id": "55dff17c"
   },
   "outputs": [],
   "source": [
    "if load_model:\n",
    "    step = load_checkpoint(torch.load('SPECIFIY_PATH.pth.tar'), model, optimizer)"
   ]
  },
  {
   "cell_type": "markdown",
   "id": "0d602701",
   "metadata": {
    "id": "0d602701"
   },
   "source": [
    "### Training loop"
   ]
  },
  {
   "cell_type": "code",
   "execution_count": 11,
   "id": "4be22c28",
   "metadata": {
    "id": "4be22c28",
    "scrolled": true
   },
   "outputs": [
    {
     "name": "stdout",
     "output_type": "stream",
     "text": [
      "Example 1 CORRECT: Dog on a beach by the ocean\n",
      "Example 1 OUTPUT: overhead traffic brother breaks parlor handbag carts beside hugs struggle backward surfer bears wait shirtless video sparklers stomach lockers unseen earring along face hovering papers nails university league bird saber chased heavy eat rails cowboy cowboy stars carriage desert lunges wrestlers shallow piece well piece stroller papers downtown officer chased\n",
      "Example 2 CORRECT: Child holding red frisbee outdoors\n",
      "Example 2 OUTPUT: mohawk return groom lean tall paved marx bending shirt tries tackled bag motorbike rural higher wet hiking overlooking band sell dad coat without posters officer form hold overlooks hamburgers masks athlete sort butter butter pants skirts hear cream silly skateboarder there wakeboard obama shepherd breaks snap hay armenian piano sun\n",
      "Example 3 CORRECT: Bus driving by parked cars\n",
      "Example 3 OUTPUT: coach dim self sparklers canoe squats bandanna surfing cowboy clad baseman unique crouched crouched waiting skirt midst sacks straps river when outfits corgi cold badminton vehicle vehicle vehicle vehicle vehicle vehicle vehicle vehicle vehicle vehicle vehicle vehicle vehicle vehicle vehicle vehicle vehicle vehicle vehicle vehicle vehicle vehicle vehicle vehicle vehicle\n",
      "Example 4 CORRECT: A small boat in the ocean\n",
      "Example 4 OUTPUT: ceremony agility dancing robot innertube gloved instrument stools close practice cords follow its returns outfits docked beverage asleep guys guys helmets braids hawaiian away pierced reddish referee greenhouse beginning action beginning bent stroller backward wait pointing parachutes all river art older bridal stools stump filled checked cover sewing puppies juggling\n",
      "Example 5 CORRECT: A cowboy riding a horse in the desert\n",
      "Example 5 OUTPUT: stair casts leg sign bitten fishes looking submerged beaded placed ascending teen see electronic pose playfully drops earphones airborne curve curve steep jogging current overlooks enjoy hood painting painting eyes sun leaf bedroom sparklers wrapping stream poster smoke thrown splash gold splash eastern leaf pro peers closed teddy followed falls\n"
     ]
    },
    {
     "name": "stderr",
     "output_type": "stream",
     "text": [
      "                                                 \r"
     ]
    },
    {
     "name": "stdout",
     "output_type": "stream",
     "text": [
      "BLUE SCORES validation  0 0.5922767116796966\n"
     ]
    },
    {
     "name": "stderr",
     "output_type": "stream",
     "text": [
      "                                                   \r"
     ]
    },
    {
     "name": "stdout",
     "output_type": "stream",
     "text": [
      "BLUE SCORES TRAIN 0 0.7109332422297603\n",
      "=> Saving checkpoint\n"
     ]
    },
    {
     "name": "stderr",
     "output_type": "stream",
     "text": [
      "100%|██████████| 139/139 [00:56<00:00,  2.47it/s]\n"
     ]
    },
    {
     "name": "stdout",
     "output_type": "stream",
     "text": [
      "Training loss 6.267791271209717\n"
     ]
    },
    {
     "name": "stderr",
     "output_type": "stream",
     "text": [
      "100%|██████████| 139/139 [00:51<00:00,  2.69it/s]\n"
     ]
    },
    {
     "name": "stdout",
     "output_type": "stream",
     "text": [
      "Training loss 4.973031044006348\n"
     ]
    },
    {
     "name": "stderr",
     "output_type": "stream",
     "text": [
      "100%|██████████| 139/139 [00:51<00:00,  2.69it/s]\n"
     ]
    },
    {
     "name": "stdout",
     "output_type": "stream",
     "text": [
      "Training loss 4.67972469329834\n"
     ]
    },
    {
     "name": "stderr",
     "output_type": "stream",
     "text": [
      "100%|██████████| 139/139 [00:51<00:00,  2.67it/s]\n"
     ]
    },
    {
     "name": "stdout",
     "output_type": "stream",
     "text": [
      "Training loss 4.3025031089782715\n"
     ]
    },
    {
     "name": "stderr",
     "output_type": "stream",
     "text": [
      "100%|██████████| 139/139 [00:52<00:00,  2.67it/s]\n"
     ]
    },
    {
     "name": "stdout",
     "output_type": "stream",
     "text": [
      "Training loss 4.237387657165527\n"
     ]
    },
    {
     "name": "stderr",
     "output_type": "stream",
     "text": [
      "100%|██████████| 139/139 [00:51<00:00,  2.69it/s]\n"
     ]
    },
    {
     "name": "stdout",
     "output_type": "stream",
     "text": [
      "Training loss 4.092973232269287\n"
     ]
    },
    {
     "name": "stderr",
     "output_type": "stream",
     "text": [
      "100%|██████████| 139/139 [00:51<00:00,  2.71it/s]\n"
     ]
    },
    {
     "name": "stdout",
     "output_type": "stream",
     "text": [
      "Training loss 3.9617254734039307\n"
     ]
    },
    {
     "name": "stderr",
     "output_type": "stream",
     "text": [
      "100%|██████████| 139/139 [00:51<00:00,  2.71it/s]\n"
     ]
    },
    {
     "name": "stdout",
     "output_type": "stream",
     "text": [
      "Training loss 3.8952505588531494\n"
     ]
    },
    {
     "name": "stderr",
     "output_type": "stream",
     "text": [
      "100%|██████████| 139/139 [00:51<00:00,  2.71it/s]\n"
     ]
    },
    {
     "name": "stdout",
     "output_type": "stream",
     "text": [
      "Training loss 3.818037509918213\n"
     ]
    },
    {
     "name": "stderr",
     "output_type": "stream",
     "text": [
      "100%|██████████| 139/139 [00:51<00:00,  2.67it/s]\n"
     ]
    },
    {
     "name": "stdout",
     "output_type": "stream",
     "text": [
      "Training loss 3.723111391067505\n"
     ]
    },
    {
     "name": "stderr",
     "output_type": "stream",
     "text": [
      "100%|██████████| 139/139 [00:51<00:00,  2.68it/s]\n"
     ]
    },
    {
     "name": "stdout",
     "output_type": "stream",
     "text": [
      "Training loss 3.6773362159729004\n"
     ]
    },
    {
     "name": "stderr",
     "output_type": "stream",
     "text": [
      "100%|██████████| 139/139 [00:51<00:00,  2.69it/s]\n"
     ]
    },
    {
     "name": "stdout",
     "output_type": "stream",
     "text": [
      "Training loss 3.65189528465271\n"
     ]
    },
    {
     "name": "stderr",
     "output_type": "stream",
     "text": [
      "100%|██████████| 139/139 [00:52<00:00,  2.67it/s]\n"
     ]
    },
    {
     "name": "stdout",
     "output_type": "stream",
     "text": [
      "Training loss 3.6105690002441406\n"
     ]
    },
    {
     "name": "stderr",
     "output_type": "stream",
     "text": [
      "100%|██████████| 139/139 [00:51<00:00,  2.69it/s]\n"
     ]
    },
    {
     "name": "stdout",
     "output_type": "stream",
     "text": [
      "Training loss 3.4929091930389404\n"
     ]
    },
    {
     "name": "stderr",
     "output_type": "stream",
     "text": [
      "100%|██████████| 139/139 [00:51<00:00,  2.68it/s]\n"
     ]
    },
    {
     "name": "stdout",
     "output_type": "stream",
     "text": [
      "Training loss 3.46366286277771\n"
     ]
    },
    {
     "name": "stderr",
     "output_type": "stream",
     "text": [
      "100%|██████████| 139/139 [00:51<00:00,  2.71it/s]\n"
     ]
    },
    {
     "name": "stdout",
     "output_type": "stream",
     "text": [
      "Training loss 3.545114278793335\n"
     ]
    },
    {
     "name": "stderr",
     "output_type": "stream",
     "text": [
      "100%|██████████| 139/139 [00:51<00:00,  2.72it/s]\n"
     ]
    },
    {
     "name": "stdout",
     "output_type": "stream",
     "text": [
      "Training loss 3.4591662883758545\n"
     ]
    },
    {
     "name": "stderr",
     "output_type": "stream",
     "text": [
      "100%|██████████| 139/139 [00:51<00:00,  2.70it/s]\n"
     ]
    },
    {
     "name": "stdout",
     "output_type": "stream",
     "text": [
      "Training loss 3.5257599353790283\n"
     ]
    },
    {
     "name": "stderr",
     "output_type": "stream",
     "text": [
      "100%|██████████| 139/139 [00:51<00:00,  2.70it/s]\n"
     ]
    },
    {
     "name": "stdout",
     "output_type": "stream",
     "text": [
      "Training loss 3.300682306289673\n"
     ]
    },
    {
     "name": "stderr",
     "output_type": "stream",
     "text": [
      "100%|██████████| 139/139 [00:51<00:00,  2.69it/s]\n"
     ]
    },
    {
     "name": "stdout",
     "output_type": "stream",
     "text": [
      "Training loss 3.4367640018463135\n"
     ]
    },
    {
     "name": "stderr",
     "output_type": "stream",
     "text": [
      "100%|██████████| 139/139 [00:51<00:00,  2.69it/s]\n"
     ]
    },
    {
     "name": "stdout",
     "output_type": "stream",
     "text": [
      "Training loss 3.243307113647461\n"
     ]
    },
    {
     "name": "stderr",
     "output_type": "stream",
     "text": [
      "100%|██████████| 139/139 [00:52<00:00,  2.66it/s]\n"
     ]
    },
    {
     "name": "stdout",
     "output_type": "stream",
     "text": [
      "Training loss 3.379138231277466\n"
     ]
    },
    {
     "name": "stderr",
     "output_type": "stream",
     "text": [
      "100%|██████████| 139/139 [00:51<00:00,  2.68it/s]\n"
     ]
    },
    {
     "name": "stdout",
     "output_type": "stream",
     "text": [
      "Training loss 3.5169870853424072\n"
     ]
    },
    {
     "name": "stderr",
     "output_type": "stream",
     "text": [
      "100%|██████████| 139/139 [00:51<00:00,  2.67it/s]\n"
     ]
    },
    {
     "name": "stdout",
     "output_type": "stream",
     "text": [
      "Training loss 3.2696869373321533\n"
     ]
    },
    {
     "name": "stderr",
     "output_type": "stream",
     "text": [
      "100%|██████████| 139/139 [00:51<00:00,  2.68it/s]\n"
     ]
    },
    {
     "name": "stdout",
     "output_type": "stream",
     "text": [
      "Training loss 3.25646710395813\n"
     ]
    },
    {
     "name": "stderr",
     "output_type": "stream",
     "text": [
      "100%|██████████| 139/139 [00:51<00:00,  2.68it/s]\n"
     ]
    },
    {
     "name": "stdout",
     "output_type": "stream",
     "text": [
      "Training loss 3.301893472671509\n"
     ]
    },
    {
     "name": "stderr",
     "output_type": "stream",
     "text": [
      "100%|██████████| 139/139 [00:51<00:00,  2.68it/s]\n"
     ]
    },
    {
     "name": "stdout",
     "output_type": "stream",
     "text": [
      "Training loss 3.1601812839508057\n"
     ]
    },
    {
     "name": "stderr",
     "output_type": "stream",
     "text": [
      "100%|██████████| 139/139 [00:51<00:00,  2.71it/s]\n"
     ]
    },
    {
     "name": "stdout",
     "output_type": "stream",
     "text": [
      "Training loss 3.2086949348449707\n"
     ]
    },
    {
     "name": "stderr",
     "output_type": "stream",
     "text": [
      "100%|██████████| 139/139 [00:51<00:00,  2.71it/s]\n"
     ]
    },
    {
     "name": "stdout",
     "output_type": "stream",
     "text": [
      "Training loss 3.261551856994629\n"
     ]
    },
    {
     "name": "stderr",
     "output_type": "stream",
     "text": [
      "100%|██████████| 139/139 [00:51<00:00,  2.69it/s]\n"
     ]
    },
    {
     "name": "stdout",
     "output_type": "stream",
     "text": [
      "Training loss 3.2296547889709473\n"
     ]
    },
    {
     "name": "stderr",
     "output_type": "stream",
     "text": [
      "100%|██████████| 139/139 [00:51<00:00,  2.70it/s]\n"
     ]
    },
    {
     "name": "stdout",
     "output_type": "stream",
     "text": [
      "Training loss 3.126885175704956\n"
     ]
    },
    {
     "name": "stderr",
     "output_type": "stream",
     "text": [
      "100%|██████████| 139/139 [00:52<00:00,  2.66it/s]\n"
     ]
    },
    {
     "name": "stdout",
     "output_type": "stream",
     "text": [
      "Training loss 3.1088643074035645\n"
     ]
    },
    {
     "name": "stderr",
     "output_type": "stream",
     "text": [
      "100%|██████████| 139/139 [00:51<00:00,  2.68it/s]\n"
     ]
    },
    {
     "name": "stdout",
     "output_type": "stream",
     "text": [
      "Training loss 3.07033634185791\n"
     ]
    },
    {
     "name": "stderr",
     "output_type": "stream",
     "text": [
      "100%|██████████| 139/139 [00:51<00:00,  2.68it/s]\n"
     ]
    },
    {
     "name": "stdout",
     "output_type": "stream",
     "text": [
      "Training loss 3.1574556827545166\n"
     ]
    },
    {
     "name": "stderr",
     "output_type": "stream",
     "text": [
      "100%|██████████| 139/139 [00:52<00:00,  2.66it/s]\n"
     ]
    },
    {
     "name": "stdout",
     "output_type": "stream",
     "text": [
      "Training loss 3.0515034198760986\n"
     ]
    },
    {
     "name": "stderr",
     "output_type": "stream",
     "text": [
      "100%|██████████| 139/139 [00:51<00:00,  2.68it/s]\n"
     ]
    },
    {
     "name": "stdout",
     "output_type": "stream",
     "text": [
      "Training loss 2.9039928913116455\n"
     ]
    },
    {
     "name": "stderr",
     "output_type": "stream",
     "text": [
      "100%|██████████| 139/139 [00:51<00:00,  2.69it/s]\n"
     ]
    },
    {
     "name": "stdout",
     "output_type": "stream",
     "text": [
      "Training loss 3.065908908843994\n"
     ]
    },
    {
     "name": "stderr",
     "output_type": "stream",
     "text": [
      "100%|██████████| 139/139 [00:51<00:00,  2.70it/s]\n"
     ]
    },
    {
     "name": "stdout",
     "output_type": "stream",
     "text": [
      "Training loss 3.0890865325927734\n"
     ]
    },
    {
     "name": "stderr",
     "output_type": "stream",
     "text": [
      "100%|██████████| 139/139 [00:51<00:00,  2.68it/s]\n"
     ]
    },
    {
     "name": "stdout",
     "output_type": "stream",
     "text": [
      "Training loss 3.137471914291382\n"
     ]
    },
    {
     "name": "stderr",
     "output_type": "stream",
     "text": [
      "100%|██████████| 139/139 [00:51<00:00,  2.70it/s]\n"
     ]
    },
    {
     "name": "stdout",
     "output_type": "stream",
     "text": [
      "Training loss 3.0320146083831787\n"
     ]
    },
    {
     "name": "stderr",
     "output_type": "stream",
     "text": [
      "100%|██████████| 139/139 [00:51<00:00,  2.69it/s]\n"
     ]
    },
    {
     "name": "stdout",
     "output_type": "stream",
     "text": [
      "Training loss 3.006582021713257\n"
     ]
    },
    {
     "name": "stderr",
     "output_type": "stream",
     "text": [
      "100%|██████████| 139/139 [00:51<00:00,  2.69it/s]\n"
     ]
    },
    {
     "name": "stdout",
     "output_type": "stream",
     "text": [
      "Training loss 2.9351084232330322\n"
     ]
    },
    {
     "name": "stderr",
     "output_type": "stream",
     "text": [
      "100%|██████████| 139/139 [00:51<00:00,  2.69it/s]\n"
     ]
    },
    {
     "name": "stdout",
     "output_type": "stream",
     "text": [
      "Training loss 2.869105577468872\n"
     ]
    },
    {
     "name": "stderr",
     "output_type": "stream",
     "text": [
      "100%|██████████| 139/139 [00:51<00:00,  2.70it/s]\n"
     ]
    },
    {
     "name": "stdout",
     "output_type": "stream",
     "text": [
      "Training loss 2.8928699493408203\n"
     ]
    },
    {
     "name": "stderr",
     "output_type": "stream",
     "text": [
      "100%|██████████| 139/139 [00:51<00:00,  2.71it/s]\n"
     ]
    },
    {
     "name": "stdout",
     "output_type": "stream",
     "text": [
      "Training loss 3.0230793952941895\n"
     ]
    },
    {
     "name": "stderr",
     "output_type": "stream",
     "text": [
      "100%|██████████| 139/139 [00:51<00:00,  2.69it/s]\n"
     ]
    },
    {
     "name": "stdout",
     "output_type": "stream",
     "text": [
      "Training loss 3.066803216934204\n"
     ]
    },
    {
     "name": "stderr",
     "output_type": "stream",
     "text": [
      "100%|██████████| 139/139 [00:51<00:00,  2.69it/s]\n"
     ]
    },
    {
     "name": "stdout",
     "output_type": "stream",
     "text": [
      "Training loss 2.807677745819092\n"
     ]
    },
    {
     "name": "stderr",
     "output_type": "stream",
     "text": [
      "100%|██████████| 139/139 [00:51<00:00,  2.68it/s]\n"
     ]
    },
    {
     "name": "stdout",
     "output_type": "stream",
     "text": [
      "Training loss 3.0107805728912354\n"
     ]
    },
    {
     "name": "stderr",
     "output_type": "stream",
     "text": [
      "100%|██████████| 139/139 [00:51<00:00,  2.68it/s]\n"
     ]
    },
    {
     "name": "stdout",
     "output_type": "stream",
     "text": [
      "Training loss 2.8413891792297363\n"
     ]
    },
    {
     "name": "stderr",
     "output_type": "stream",
     "text": [
      "100%|██████████| 139/139 [00:51<00:00,  2.69it/s]\n"
     ]
    },
    {
     "name": "stdout",
     "output_type": "stream",
     "text": [
      "Training loss 2.914557933807373\n",
      "Example 1 CORRECT: Dog on a beach by the ocean\n",
      "Example 1 OUTPUT: <SOS> a dog is running through the water . <EOS>\n",
      "Example 2 CORRECT: Child holding red frisbee outdoors\n",
      "Example 2 OUTPUT: <SOS> a young boy in a blue shirt is jumping into the water . <EOS>\n",
      "Example 3 CORRECT: Bus driving by parked cars\n",
      "Example 3 OUTPUT: <SOS> a man in a white shirt is standing on a bench . <EOS>\n",
      "Example 4 CORRECT: A small boat in the ocean\n",
      "Example 4 OUTPUT: <SOS> a man in a blue shirt is jumping over a <UNK> . <EOS>\n",
      "Example 5 CORRECT: A cowboy riding a horse in the desert\n",
      "Example 5 OUTPUT: <SOS> a man in a red shirt is standing on a rock . <EOS>\n"
     ]
    },
    {
     "name": "stderr",
     "output_type": "stream",
     "text": [
      "                                                 \r"
     ]
    },
    {
     "name": "stdout",
     "output_type": "stream",
     "text": [
      "BLUE SCORES validation  50 61.07663873257\n"
     ]
    },
    {
     "name": "stderr",
     "output_type": "stream",
     "text": [
      "                                                   \r"
     ]
    },
    {
     "name": "stdout",
     "output_type": "stream",
     "text": [
      "BLUE SCORES TRAIN 50 62.69672777091198\n",
      "=> Saving checkpoint\n"
     ]
    },
    {
     "name": "stderr",
     "output_type": "stream",
     "text": [
      "100%|██████████| 139/139 [00:51<00:00,  2.71it/s]\n"
     ]
    },
    {
     "name": "stdout",
     "output_type": "stream",
     "text": [
      "Training loss 2.823176383972168\n"
     ]
    },
    {
     "name": "stderr",
     "output_type": "stream",
     "text": [
      "100%|██████████| 139/139 [00:51<00:00,  2.70it/s]\n"
     ]
    },
    {
     "name": "stdout",
     "output_type": "stream",
     "text": [
      "Training loss 3.024751663208008\n"
     ]
    },
    {
     "name": "stderr",
     "output_type": "stream",
     "text": [
      "100%|██████████| 139/139 [00:51<00:00,  2.69it/s]\n"
     ]
    },
    {
     "name": "stdout",
     "output_type": "stream",
     "text": [
      "Training loss 2.848554849624634\n"
     ]
    },
    {
     "name": "stderr",
     "output_type": "stream",
     "text": [
      "100%|██████████| 139/139 [00:51<00:00,  2.69it/s]\n"
     ]
    },
    {
     "name": "stdout",
     "output_type": "stream",
     "text": [
      "Training loss 2.706678867340088\n"
     ]
    },
    {
     "name": "stderr",
     "output_type": "stream",
     "text": [
      "100%|██████████| 139/139 [00:51<00:00,  2.70it/s]\n"
     ]
    },
    {
     "name": "stdout",
     "output_type": "stream",
     "text": [
      "Training loss 2.9319820404052734\n"
     ]
    },
    {
     "name": "stderr",
     "output_type": "stream",
     "text": [
      "100%|██████████| 139/139 [00:51<00:00,  2.69it/s]\n"
     ]
    },
    {
     "name": "stdout",
     "output_type": "stream",
     "text": [
      "Training loss 2.598647356033325\n"
     ]
    },
    {
     "name": "stderr",
     "output_type": "stream",
     "text": [
      "100%|██████████| 139/139 [00:51<00:00,  2.68it/s]\n"
     ]
    },
    {
     "name": "stdout",
     "output_type": "stream",
     "text": [
      "Training loss 2.7646706104278564\n"
     ]
    },
    {
     "name": "stderr",
     "output_type": "stream",
     "text": [
      "100%|██████████| 139/139 [00:51<00:00,  2.69it/s]\n"
     ]
    },
    {
     "name": "stdout",
     "output_type": "stream",
     "text": [
      "Training loss 2.7127366065979004\n"
     ]
    },
    {
     "name": "stderr",
     "output_type": "stream",
     "text": [
      "100%|██████████| 139/139 [00:51<00:00,  2.70it/s]\n"
     ]
    },
    {
     "name": "stdout",
     "output_type": "stream",
     "text": [
      "Training loss 2.791078805923462\n"
     ]
    },
    {
     "name": "stderr",
     "output_type": "stream",
     "text": [
      "100%|██████████| 139/139 [00:51<00:00,  2.71it/s]\n"
     ]
    },
    {
     "name": "stdout",
     "output_type": "stream",
     "text": [
      "Training loss 2.6893866062164307\n"
     ]
    },
    {
     "name": "stderr",
     "output_type": "stream",
     "text": [
      "100%|██████████| 139/139 [00:51<00:00,  2.71it/s]\n"
     ]
    },
    {
     "name": "stdout",
     "output_type": "stream",
     "text": [
      "Training loss 2.733637571334839\n"
     ]
    },
    {
     "name": "stderr",
     "output_type": "stream",
     "text": [
      "100%|██████████| 139/139 [00:51<00:00,  2.70it/s]\n"
     ]
    },
    {
     "name": "stdout",
     "output_type": "stream",
     "text": [
      "Training loss 2.8283538818359375\n"
     ]
    },
    {
     "name": "stderr",
     "output_type": "stream",
     "text": [
      "100%|██████████| 139/139 [00:51<00:00,  2.70it/s]\n"
     ]
    },
    {
     "name": "stdout",
     "output_type": "stream",
     "text": [
      "Training loss 2.665097713470459\n"
     ]
    },
    {
     "name": "stderr",
     "output_type": "stream",
     "text": [
      "100%|██████████| 139/139 [00:51<00:00,  2.68it/s]\n"
     ]
    },
    {
     "name": "stdout",
     "output_type": "stream",
     "text": [
      "Training loss 2.7903800010681152\n"
     ]
    },
    {
     "name": "stderr",
     "output_type": "stream",
     "text": [
      "100%|██████████| 139/139 [00:51<00:00,  2.69it/s]\n"
     ]
    },
    {
     "name": "stdout",
     "output_type": "stream",
     "text": [
      "Training loss 2.7123091220855713\n"
     ]
    },
    {
     "name": "stderr",
     "output_type": "stream",
     "text": [
      "100%|██████████| 139/139 [00:51<00:00,  2.71it/s]\n"
     ]
    },
    {
     "name": "stdout",
     "output_type": "stream",
     "text": [
      "Training loss 2.66802978515625\n"
     ]
    },
    {
     "name": "stderr",
     "output_type": "stream",
     "text": [
      "100%|██████████| 139/139 [00:51<00:00,  2.71it/s]\n"
     ]
    },
    {
     "name": "stdout",
     "output_type": "stream",
     "text": [
      "Training loss 2.7056515216827393\n"
     ]
    },
    {
     "name": "stderr",
     "output_type": "stream",
     "text": [
      "100%|██████████| 139/139 [00:51<00:00,  2.71it/s]\n"
     ]
    },
    {
     "name": "stdout",
     "output_type": "stream",
     "text": [
      "Training loss 2.6939163208007812\n"
     ]
    },
    {
     "name": "stderr",
     "output_type": "stream",
     "text": [
      "100%|██████████| 139/139 [00:51<00:00,  2.71it/s]\n"
     ]
    },
    {
     "name": "stdout",
     "output_type": "stream",
     "text": [
      "Training loss 2.7213892936706543\n"
     ]
    },
    {
     "name": "stderr",
     "output_type": "stream",
     "text": [
      "100%|██████████| 139/139 [00:51<00:00,  2.71it/s]\n"
     ]
    },
    {
     "name": "stdout",
     "output_type": "stream",
     "text": [
      "Training loss 2.5831515789031982\n"
     ]
    },
    {
     "name": "stderr",
     "output_type": "stream",
     "text": [
      "100%|██████████| 139/139 [00:51<00:00,  2.69it/s]\n"
     ]
    },
    {
     "name": "stdout",
     "output_type": "stream",
     "text": [
      "Training loss 2.78045654296875\n"
     ]
    },
    {
     "name": "stderr",
     "output_type": "stream",
     "text": [
      "100%|██████████| 139/139 [00:51<00:00,  2.70it/s]\n"
     ]
    },
    {
     "name": "stdout",
     "output_type": "stream",
     "text": [
      "Training loss 2.726997137069702\n"
     ]
    },
    {
     "name": "stderr",
     "output_type": "stream",
     "text": [
      "100%|██████████| 139/139 [00:51<00:00,  2.70it/s]\n"
     ]
    },
    {
     "name": "stdout",
     "output_type": "stream",
     "text": [
      "Training loss 2.6675240993499756\n"
     ]
    },
    {
     "name": "stderr",
     "output_type": "stream",
     "text": [
      "100%|██████████| 139/139 [00:50<00:00,  2.73it/s]\n"
     ]
    },
    {
     "name": "stdout",
     "output_type": "stream",
     "text": [
      "Training loss 2.6909427642822266\n"
     ]
    },
    {
     "name": "stderr",
     "output_type": "stream",
     "text": [
      "100%|██████████| 139/139 [00:51<00:00,  2.72it/s]\n"
     ]
    },
    {
     "name": "stdout",
     "output_type": "stream",
     "text": [
      "Training loss 2.7372493743896484\n"
     ]
    },
    {
     "name": "stderr",
     "output_type": "stream",
     "text": [
      "100%|██████████| 139/139 [00:51<00:00,  2.72it/s]\n"
     ]
    },
    {
     "name": "stdout",
     "output_type": "stream",
     "text": [
      "Training loss 2.6928493976593018\n"
     ]
    },
    {
     "name": "stderr",
     "output_type": "stream",
     "text": [
      "100%|██████████| 139/139 [00:51<00:00,  2.72it/s]\n"
     ]
    },
    {
     "name": "stdout",
     "output_type": "stream",
     "text": [
      "Training loss 2.692370891571045\n"
     ]
    },
    {
     "name": "stderr",
     "output_type": "stream",
     "text": [
      "100%|██████████| 139/139 [00:51<00:00,  2.70it/s]\n"
     ]
    },
    {
     "name": "stdout",
     "output_type": "stream",
     "text": [
      "Training loss 2.6794257164001465\n"
     ]
    },
    {
     "name": "stderr",
     "output_type": "stream",
     "text": [
      "100%|██████████| 139/139 [00:51<00:00,  2.70it/s]\n"
     ]
    },
    {
     "name": "stdout",
     "output_type": "stream",
     "text": [
      "Training loss 2.784769058227539\n"
     ]
    },
    {
     "name": "stderr",
     "output_type": "stream",
     "text": [
      "100%|██████████| 139/139 [00:51<00:00,  2.70it/s]\n"
     ]
    },
    {
     "name": "stdout",
     "output_type": "stream",
     "text": [
      "Training loss 2.7259297370910645\n"
     ]
    },
    {
     "name": "stderr",
     "output_type": "stream",
     "text": [
      "100%|██████████| 139/139 [00:51<00:00,  2.70it/s]\n"
     ]
    },
    {
     "name": "stdout",
     "output_type": "stream",
     "text": [
      "Training loss 2.6495678424835205\n"
     ]
    },
    {
     "name": "stderr",
     "output_type": "stream",
     "text": [
      "100%|██████████| 139/139 [00:51<00:00,  2.71it/s]\n"
     ]
    },
    {
     "name": "stdout",
     "output_type": "stream",
     "text": [
      "Training loss 2.7048816680908203\n"
     ]
    },
    {
     "name": "stderr",
     "output_type": "stream",
     "text": [
      "100%|██████████| 139/139 [00:51<00:00,  2.72it/s]\n"
     ]
    },
    {
     "name": "stdout",
     "output_type": "stream",
     "text": [
      "Training loss 2.6970832347869873\n"
     ]
    },
    {
     "name": "stderr",
     "output_type": "stream",
     "text": [
      "100%|██████████| 139/139 [00:51<00:00,  2.70it/s]\n"
     ]
    },
    {
     "name": "stdout",
     "output_type": "stream",
     "text": [
      "Training loss 2.693446159362793\n"
     ]
    },
    {
     "name": "stderr",
     "output_type": "stream",
     "text": [
      "100%|██████████| 139/139 [00:51<00:00,  2.71it/s]\n"
     ]
    },
    {
     "name": "stdout",
     "output_type": "stream",
     "text": [
      "Training loss 2.5900628566741943\n"
     ]
    },
    {
     "name": "stderr",
     "output_type": "stream",
     "text": [
      "100%|██████████| 139/139 [00:51<00:00,  2.71it/s]\n"
     ]
    },
    {
     "name": "stdout",
     "output_type": "stream",
     "text": [
      "Training loss 2.60422945022583\n"
     ]
    },
    {
     "name": "stderr",
     "output_type": "stream",
     "text": [
      "100%|██████████| 139/139 [00:51<00:00,  2.71it/s]\n"
     ]
    },
    {
     "name": "stdout",
     "output_type": "stream",
     "text": [
      "Training loss 2.665759563446045\n"
     ]
    },
    {
     "name": "stderr",
     "output_type": "stream",
     "text": [
      "100%|██████████| 139/139 [00:51<00:00,  2.71it/s]\n"
     ]
    },
    {
     "name": "stdout",
     "output_type": "stream",
     "text": [
      "Training loss 2.638641119003296\n"
     ]
    },
    {
     "name": "stderr",
     "output_type": "stream",
     "text": [
      "100%|██████████| 139/139 [00:50<00:00,  2.73it/s]\n"
     ]
    },
    {
     "name": "stdout",
     "output_type": "stream",
     "text": [
      "Training loss 2.6671180725097656\n"
     ]
    },
    {
     "name": "stderr",
     "output_type": "stream",
     "text": [
      "100%|██████████| 139/139 [00:51<00:00,  2.72it/s]\n"
     ]
    },
    {
     "name": "stdout",
     "output_type": "stream",
     "text": [
      "Training loss 2.6911396980285645\n"
     ]
    },
    {
     "name": "stderr",
     "output_type": "stream",
     "text": [
      "100%|██████████| 139/139 [00:51<00:00,  2.70it/s]\n"
     ]
    },
    {
     "name": "stdout",
     "output_type": "stream",
     "text": [
      "Training loss 2.7386910915374756\n"
     ]
    },
    {
     "name": "stderr",
     "output_type": "stream",
     "text": [
      "100%|██████████| 139/139 [00:51<00:00,  2.70it/s]\n"
     ]
    },
    {
     "name": "stdout",
     "output_type": "stream",
     "text": [
      "Training loss 2.796226739883423\n"
     ]
    },
    {
     "name": "stderr",
     "output_type": "stream",
     "text": [
      "100%|██████████| 139/139 [00:51<00:00,  2.71it/s]\n"
     ]
    },
    {
     "name": "stdout",
     "output_type": "stream",
     "text": [
      "Training loss 2.7117819786071777\n"
     ]
    },
    {
     "name": "stderr",
     "output_type": "stream",
     "text": [
      "100%|██████████| 139/139 [00:51<00:00,  2.71it/s]\n"
     ]
    },
    {
     "name": "stdout",
     "output_type": "stream",
     "text": [
      "Training loss 2.5444610118865967\n"
     ]
    },
    {
     "name": "stderr",
     "output_type": "stream",
     "text": [
      "100%|██████████| 139/139 [00:51<00:00,  2.71it/s]\n"
     ]
    },
    {
     "name": "stdout",
     "output_type": "stream",
     "text": [
      "Training loss 2.55952787399292\n"
     ]
    },
    {
     "name": "stderr",
     "output_type": "stream",
     "text": [
      "100%|██████████| 139/139 [00:51<00:00,  2.71it/s]\n"
     ]
    },
    {
     "name": "stdout",
     "output_type": "stream",
     "text": [
      "Training loss 2.6550252437591553\n"
     ]
    },
    {
     "name": "stderr",
     "output_type": "stream",
     "text": [
      "100%|██████████| 139/139 [00:51<00:00,  2.71it/s]\n"
     ]
    },
    {
     "name": "stdout",
     "output_type": "stream",
     "text": [
      "Training loss 2.692101240158081\n"
     ]
    },
    {
     "name": "stderr",
     "output_type": "stream",
     "text": [
      "100%|██████████| 139/139 [00:51<00:00,  2.72it/s]\n"
     ]
    },
    {
     "name": "stdout",
     "output_type": "stream",
     "text": [
      "Training loss 2.568418264389038\n"
     ]
    },
    {
     "name": "stderr",
     "output_type": "stream",
     "text": [
      "100%|██████████| 139/139 [00:51<00:00,  2.71it/s]\n"
     ]
    },
    {
     "name": "stdout",
     "output_type": "stream",
     "text": [
      "Training loss 2.641014575958252\n"
     ]
    },
    {
     "name": "stderr",
     "output_type": "stream",
     "text": [
      "100%|██████████| 139/139 [00:51<00:00,  2.71it/s]\n"
     ]
    },
    {
     "name": "stdout",
     "output_type": "stream",
     "text": [
      "Training loss 2.651546001434326\n",
      "Example 1 CORRECT: Dog on a beach by the ocean\n",
      "Example 1 OUTPUT: <SOS> a dog is running through the water . <EOS>\n",
      "Example 2 CORRECT: Child holding red frisbee outdoors\n",
      "Example 2 OUTPUT: <SOS> a little boy in a blue shirt is playing with a ball in a pool . <EOS>\n",
      "Example 3 CORRECT: Bus driving by parked cars\n",
      "Example 3 OUTPUT: <SOS> a man in a red shirt is standing on a bench . <EOS>\n",
      "Example 4 CORRECT: A small boat in the ocean\n",
      "Example 4 OUTPUT: <SOS> a man in a blue shirt is jumping over a large wave . <EOS>\n",
      "Example 5 CORRECT: A cowboy riding a horse in the desert\n",
      "Example 5 OUTPUT: <SOS> two people are walking through a snowy area . <EOS>\n"
     ]
    },
    {
     "name": "stderr",
     "output_type": "stream",
     "text": [
      "                                                 \r"
     ]
    },
    {
     "name": "stdout",
     "output_type": "stream",
     "text": [
      "BLUE SCORES validation  100 63.3771674625641\n"
     ]
    },
    {
     "name": "stderr",
     "output_type": "stream",
     "text": [
      "                                                   \r"
     ]
    },
    {
     "name": "stdout",
     "output_type": "stream",
     "text": [
      "BLUE SCORES TRAIN 100 65.93491540482744\n",
      "=> Saving checkpoint\n"
     ]
    },
    {
     "name": "stderr",
     "output_type": "stream",
     "text": [
      "100%|██████████| 139/139 [00:51<00:00,  2.69it/s]\n"
     ]
    },
    {
     "name": "stdout",
     "output_type": "stream",
     "text": [
      "Training loss 2.6528961658477783\n"
     ]
    },
    {
     "name": "stderr",
     "output_type": "stream",
     "text": [
      "100%|██████████| 139/139 [00:51<00:00,  2.71it/s]\n"
     ]
    },
    {
     "name": "stdout",
     "output_type": "stream",
     "text": [
      "Training loss 2.538637638092041\n"
     ]
    },
    {
     "name": "stderr",
     "output_type": "stream",
     "text": [
      "100%|██████████| 139/139 [00:51<00:00,  2.70it/s]\n"
     ]
    },
    {
     "name": "stdout",
     "output_type": "stream",
     "text": [
      "Training loss 2.563232660293579\n"
     ]
    },
    {
     "name": "stderr",
     "output_type": "stream",
     "text": [
      "100%|██████████| 139/139 [00:51<00:00,  2.72it/s]\n"
     ]
    },
    {
     "name": "stdout",
     "output_type": "stream",
     "text": [
      "Training loss 2.6499111652374268\n"
     ]
    },
    {
     "name": "stderr",
     "output_type": "stream",
     "text": [
      "100%|██████████| 139/139 [00:51<00:00,  2.69it/s]\n"
     ]
    },
    {
     "name": "stdout",
     "output_type": "stream",
     "text": [
      "Training loss 2.5447118282318115\n"
     ]
    },
    {
     "name": "stderr",
     "output_type": "stream",
     "text": [
      "100%|██████████| 139/139 [00:51<00:00,  2.70it/s]\n"
     ]
    },
    {
     "name": "stdout",
     "output_type": "stream",
     "text": [
      "Training loss 2.529703378677368\n"
     ]
    },
    {
     "name": "stderr",
     "output_type": "stream",
     "text": [
      "100%|██████████| 139/139 [00:51<00:00,  2.72it/s]\n"
     ]
    },
    {
     "name": "stdout",
     "output_type": "stream",
     "text": [
      "Training loss 2.5917177200317383\n"
     ]
    },
    {
     "name": "stderr",
     "output_type": "stream",
     "text": [
      "100%|██████████| 139/139 [00:51<00:00,  2.71it/s]\n"
     ]
    },
    {
     "name": "stdout",
     "output_type": "stream",
     "text": [
      "Training loss 2.469534158706665\n"
     ]
    },
    {
     "name": "stderr",
     "output_type": "stream",
     "text": [
      "100%|██████████| 139/139 [00:51<00:00,  2.69it/s]\n"
     ]
    },
    {
     "name": "stdout",
     "output_type": "stream",
     "text": [
      "Training loss 2.5565032958984375\n"
     ]
    },
    {
     "name": "stderr",
     "output_type": "stream",
     "text": [
      "100%|██████████| 139/139 [00:51<00:00,  2.70it/s]\n"
     ]
    },
    {
     "name": "stdout",
     "output_type": "stream",
     "text": [
      "Training loss 2.4288952350616455\n"
     ]
    },
    {
     "name": "stderr",
     "output_type": "stream",
     "text": [
      "100%|██████████| 139/139 [00:51<00:00,  2.69it/s]\n"
     ]
    },
    {
     "name": "stdout",
     "output_type": "stream",
     "text": [
      "Training loss 2.593369483947754\n"
     ]
    },
    {
     "name": "stderr",
     "output_type": "stream",
     "text": [
      "100%|██████████| 139/139 [00:51<00:00,  2.71it/s]\n"
     ]
    },
    {
     "name": "stdout",
     "output_type": "stream",
     "text": [
      "Training loss 2.5447921752929688\n"
     ]
    },
    {
     "name": "stderr",
     "output_type": "stream",
     "text": [
      "100%|██████████| 139/139 [00:51<00:00,  2.70it/s]\n"
     ]
    },
    {
     "name": "stdout",
     "output_type": "stream",
     "text": [
      "Training loss 2.462951898574829\n"
     ]
    },
    {
     "name": "stderr",
     "output_type": "stream",
     "text": [
      "100%|██████████| 139/139 [00:51<00:00,  2.71it/s]\n"
     ]
    },
    {
     "name": "stdout",
     "output_type": "stream",
     "text": [
      "Training loss 2.440250873565674\n"
     ]
    },
    {
     "name": "stderr",
     "output_type": "stream",
     "text": [
      "100%|██████████| 139/139 [00:51<00:00,  2.70it/s]\n"
     ]
    },
    {
     "name": "stdout",
     "output_type": "stream",
     "text": [
      "Training loss 2.6021769046783447\n"
     ]
    },
    {
     "name": "stderr",
     "output_type": "stream",
     "text": [
      "100%|██████████| 139/139 [00:51<00:00,  2.69it/s]\n"
     ]
    },
    {
     "name": "stdout",
     "output_type": "stream",
     "text": [
      "Training loss 2.5184476375579834\n"
     ]
    },
    {
     "name": "stderr",
     "output_type": "stream",
     "text": [
      "100%|██████████| 139/139 [00:51<00:00,  2.70it/s]\n"
     ]
    },
    {
     "name": "stdout",
     "output_type": "stream",
     "text": [
      "Training loss 2.5021042823791504\n"
     ]
    },
    {
     "name": "stderr",
     "output_type": "stream",
     "text": [
      "100%|██████████| 139/139 [00:51<00:00,  2.71it/s]\n"
     ]
    },
    {
     "name": "stdout",
     "output_type": "stream",
     "text": [
      "Training loss 2.4639928340911865\n"
     ]
    },
    {
     "name": "stderr",
     "output_type": "stream",
     "text": [
      "100%|██████████| 139/139 [00:51<00:00,  2.69it/s]\n"
     ]
    },
    {
     "name": "stdout",
     "output_type": "stream",
     "text": [
      "Training loss 2.5113770961761475\n"
     ]
    },
    {
     "name": "stderr",
     "output_type": "stream",
     "text": [
      "100%|██████████| 139/139 [00:51<00:00,  2.69it/s]\n"
     ]
    },
    {
     "name": "stdout",
     "output_type": "stream",
     "text": [
      "Training loss 2.5436480045318604\n"
     ]
    },
    {
     "name": "stderr",
     "output_type": "stream",
     "text": [
      "100%|██████████| 139/139 [00:51<00:00,  2.71it/s]\n"
     ]
    },
    {
     "name": "stdout",
     "output_type": "stream",
     "text": [
      "Training loss 2.5274741649627686\n"
     ]
    },
    {
     "name": "stderr",
     "output_type": "stream",
     "text": [
      "100%|██████████| 139/139 [00:51<00:00,  2.71it/s]\n"
     ]
    },
    {
     "name": "stdout",
     "output_type": "stream",
     "text": [
      "Training loss 2.5027053356170654\n"
     ]
    },
    {
     "name": "stderr",
     "output_type": "stream",
     "text": [
      "100%|██████████| 139/139 [00:51<00:00,  2.71it/s]\n"
     ]
    },
    {
     "name": "stdout",
     "output_type": "stream",
     "text": [
      "Training loss 2.575165033340454\n"
     ]
    },
    {
     "name": "stderr",
     "output_type": "stream",
     "text": [
      "100%|██████████| 139/139 [00:51<00:00,  2.71it/s]\n"
     ]
    },
    {
     "name": "stdout",
     "output_type": "stream",
     "text": [
      "Training loss 2.4078269004821777\n"
     ]
    },
    {
     "name": "stderr",
     "output_type": "stream",
     "text": [
      "100%|██████████| 139/139 [00:51<00:00,  2.72it/s]\n"
     ]
    },
    {
     "name": "stdout",
     "output_type": "stream",
     "text": [
      "Training loss 2.564199447631836\n"
     ]
    },
    {
     "name": "stderr",
     "output_type": "stream",
     "text": [
      "100%|██████████| 139/139 [00:51<00:00,  2.70it/s]\n"
     ]
    },
    {
     "name": "stdout",
     "output_type": "stream",
     "text": [
      "Training loss 2.496821641921997\n"
     ]
    },
    {
     "name": "stderr",
     "output_type": "stream",
     "text": [
      "100%|██████████| 139/139 [00:51<00:00,  2.71it/s]\n"
     ]
    },
    {
     "name": "stdout",
     "output_type": "stream",
     "text": [
      "Training loss 2.4894933700561523\n"
     ]
    },
    {
     "name": "stderr",
     "output_type": "stream",
     "text": [
      "100%|██████████| 139/139 [00:51<00:00,  2.69it/s]\n"
     ]
    },
    {
     "name": "stdout",
     "output_type": "stream",
     "text": [
      "Training loss 2.470036506652832\n"
     ]
    },
    {
     "name": "stderr",
     "output_type": "stream",
     "text": [
      "100%|██████████| 139/139 [00:51<00:00,  2.71it/s]\n"
     ]
    },
    {
     "name": "stdout",
     "output_type": "stream",
     "text": [
      "Training loss 2.374208927154541\n"
     ]
    },
    {
     "name": "stderr",
     "output_type": "stream",
     "text": [
      "100%|██████████| 139/139 [00:51<00:00,  2.70it/s]\n"
     ]
    },
    {
     "name": "stdout",
     "output_type": "stream",
     "text": [
      "Training loss 2.541630744934082\n"
     ]
    },
    {
     "name": "stderr",
     "output_type": "stream",
     "text": [
      "100%|██████████| 139/139 [00:52<00:00,  2.65it/s]\n"
     ]
    },
    {
     "name": "stdout",
     "output_type": "stream",
     "text": [
      "Training loss 2.505770444869995\n"
     ]
    },
    {
     "name": "stderr",
     "output_type": "stream",
     "text": [
      "100%|██████████| 139/139 [00:51<00:00,  2.68it/s]\n"
     ]
    },
    {
     "name": "stdout",
     "output_type": "stream",
     "text": [
      "Training loss 2.435981512069702\n"
     ]
    },
    {
     "name": "stderr",
     "output_type": "stream",
     "text": [
      "100%|██████████| 139/139 [00:52<00:00,  2.66it/s]\n"
     ]
    },
    {
     "name": "stdout",
     "output_type": "stream",
     "text": [
      "Training loss 2.5687479972839355\n"
     ]
    },
    {
     "name": "stderr",
     "output_type": "stream",
     "text": [
      "100%|██████████| 139/139 [00:52<00:00,  2.65it/s]\n"
     ]
    },
    {
     "name": "stdout",
     "output_type": "stream",
     "text": [
      "Training loss 2.493943214416504\n"
     ]
    },
    {
     "name": "stderr",
     "output_type": "stream",
     "text": [
      "100%|██████████| 139/139 [00:52<00:00,  2.66it/s]\n"
     ]
    },
    {
     "name": "stdout",
     "output_type": "stream",
     "text": [
      "Training loss 2.436210870742798\n"
     ]
    },
    {
     "name": "stderr",
     "output_type": "stream",
     "text": [
      "100%|██████████| 139/139 [00:51<00:00,  2.68it/s]\n"
     ]
    },
    {
     "name": "stdout",
     "output_type": "stream",
     "text": [
      "Training loss 2.483510971069336\n"
     ]
    },
    {
     "name": "stderr",
     "output_type": "stream",
     "text": [
      "100%|██████████| 139/139 [00:52<00:00,  2.67it/s]\n"
     ]
    },
    {
     "name": "stdout",
     "output_type": "stream",
     "text": [
      "Training loss 2.461099624633789\n"
     ]
    },
    {
     "name": "stderr",
     "output_type": "stream",
     "text": [
      "100%|██████████| 139/139 [00:51<00:00,  2.70it/s]\n"
     ]
    },
    {
     "name": "stdout",
     "output_type": "stream",
     "text": [
      "Training loss 2.446641445159912\n"
     ]
    },
    {
     "name": "stderr",
     "output_type": "stream",
     "text": [
      "100%|██████████| 139/139 [00:52<00:00,  2.66it/s]\n"
     ]
    },
    {
     "name": "stdout",
     "output_type": "stream",
     "text": [
      "Training loss 2.473747491836548\n"
     ]
    },
    {
     "name": "stderr",
     "output_type": "stream",
     "text": [
      "100%|██████████| 139/139 [00:51<00:00,  2.70it/s]\n"
     ]
    },
    {
     "name": "stdout",
     "output_type": "stream",
     "text": [
      "Training loss 2.5056376457214355\n"
     ]
    },
    {
     "name": "stderr",
     "output_type": "stream",
     "text": [
      "100%|██████████| 139/139 [00:51<00:00,  2.70it/s]\n"
     ]
    },
    {
     "name": "stdout",
     "output_type": "stream",
     "text": [
      "Training loss 2.477027177810669\n"
     ]
    },
    {
     "name": "stderr",
     "output_type": "stream",
     "text": [
      "100%|██████████| 139/139 [00:51<00:00,  2.71it/s]\n"
     ]
    },
    {
     "name": "stdout",
     "output_type": "stream",
     "text": [
      "Training loss 2.593710422515869\n"
     ]
    },
    {
     "name": "stderr",
     "output_type": "stream",
     "text": [
      "100%|██████████| 139/139 [00:51<00:00,  2.71it/s]\n"
     ]
    },
    {
     "name": "stdout",
     "output_type": "stream",
     "text": [
      "Training loss 2.5151376724243164\n"
     ]
    },
    {
     "name": "stderr",
     "output_type": "stream",
     "text": [
      "100%|██████████| 139/139 [00:51<00:00,  2.69it/s]\n"
     ]
    },
    {
     "name": "stdout",
     "output_type": "stream",
     "text": [
      "Training loss 2.4060606956481934\n"
     ]
    },
    {
     "name": "stderr",
     "output_type": "stream",
     "text": [
      "100%|██████████| 139/139 [00:52<00:00,  2.67it/s]\n"
     ]
    },
    {
     "name": "stdout",
     "output_type": "stream",
     "text": [
      "Training loss 2.4842989444732666\n"
     ]
    },
    {
     "name": "stderr",
     "output_type": "stream",
     "text": [
      "100%|██████████| 139/139 [00:51<00:00,  2.68it/s]\n"
     ]
    },
    {
     "name": "stdout",
     "output_type": "stream",
     "text": [
      "Training loss 2.433788299560547\n"
     ]
    },
    {
     "name": "stderr",
     "output_type": "stream",
     "text": [
      "100%|██████████| 139/139 [00:51<00:00,  2.68it/s]\n"
     ]
    },
    {
     "name": "stdout",
     "output_type": "stream",
     "text": [
      "Training loss 2.465688705444336\n"
     ]
    },
    {
     "name": "stderr",
     "output_type": "stream",
     "text": [
      "100%|██████████| 139/139 [00:51<00:00,  2.69it/s]\n"
     ]
    },
    {
     "name": "stdout",
     "output_type": "stream",
     "text": [
      "Training loss 2.36578631401062\n"
     ]
    },
    {
     "name": "stderr",
     "output_type": "stream",
     "text": [
      "100%|██████████| 139/139 [00:51<00:00,  2.70it/s]\n"
     ]
    },
    {
     "name": "stdout",
     "output_type": "stream",
     "text": [
      "Training loss 2.481297016143799\n"
     ]
    },
    {
     "name": "stderr",
     "output_type": "stream",
     "text": [
      "100%|██████████| 139/139 [00:51<00:00,  2.70it/s]\n"
     ]
    },
    {
     "name": "stdout",
     "output_type": "stream",
     "text": [
      "Training loss 2.524923324584961\n",
      "Example 1 CORRECT: Dog on a beach by the ocean\n",
      "Example 1 OUTPUT: <SOS> a brown dog is running through the water . <EOS>\n",
      "Example 2 CORRECT: Child holding red frisbee outdoors\n",
      "Example 2 OUTPUT: <SOS> a boy in a blue shirt is playing in the water . <EOS>\n",
      "Example 3 CORRECT: Bus driving by parked cars\n",
      "Example 3 OUTPUT: <SOS> a man in a red shirt and a red shirt is standing on a sidewalk . <EOS>\n",
      "Example 4 CORRECT: A small boat in the ocean\n",
      "Example 4 OUTPUT: <SOS> a man in a blue shirt is jumping into the air . <EOS>\n",
      "Example 5 CORRECT: A cowboy riding a horse in the desert\n",
      "Example 5 OUTPUT: <SOS> two people are walking through a snowy area . <EOS>\n"
     ]
    },
    {
     "name": "stderr",
     "output_type": "stream",
     "text": [
      "                                                 \r"
     ]
    },
    {
     "name": "stdout",
     "output_type": "stream",
     "text": [
      "BLUE SCORES validation  150 64.2905059579\n"
     ]
    },
    {
     "name": "stderr",
     "output_type": "stream",
     "text": [
      "                                                   \r"
     ]
    },
    {
     "name": "stdout",
     "output_type": "stream",
     "text": [
      "BLUE SCORES TRAIN 150 67.87989267952358\n",
      "=> Saving checkpoint\n"
     ]
    },
    {
     "name": "stderr",
     "output_type": "stream",
     "text": [
      "100%|██████████| 139/139 [00:51<00:00,  2.70it/s]\n"
     ]
    },
    {
     "name": "stdout",
     "output_type": "stream",
     "text": [
      "Training loss 2.5233101844787598\n"
     ]
    },
    {
     "name": "stderr",
     "output_type": "stream",
     "text": [
      "100%|██████████| 139/139 [00:51<00:00,  2.69it/s]\n"
     ]
    },
    {
     "name": "stdout",
     "output_type": "stream",
     "text": [
      "Training loss 2.4357705116271973\n"
     ]
    },
    {
     "name": "stderr",
     "output_type": "stream",
     "text": [
      "100%|██████████| 139/139 [00:51<00:00,  2.72it/s]\n"
     ]
    },
    {
     "name": "stdout",
     "output_type": "stream",
     "text": [
      "Training loss 2.535033702850342\n"
     ]
    },
    {
     "name": "stderr",
     "output_type": "stream",
     "text": [
      "100%|██████████| 139/139 [00:51<00:00,  2.70it/s]\n"
     ]
    },
    {
     "name": "stdout",
     "output_type": "stream",
     "text": [
      "Training loss 2.462601661682129\n"
     ]
    },
    {
     "name": "stderr",
     "output_type": "stream",
     "text": [
      "100%|██████████| 139/139 [00:51<00:00,  2.71it/s]\n"
     ]
    },
    {
     "name": "stdout",
     "output_type": "stream",
     "text": [
      "Training loss 2.401498317718506\n"
     ]
    },
    {
     "name": "stderr",
     "output_type": "stream",
     "text": [
      "100%|██████████| 139/139 [00:51<00:00,  2.72it/s]\n"
     ]
    },
    {
     "name": "stdout",
     "output_type": "stream",
     "text": [
      "Training loss 2.5184342861175537\n"
     ]
    },
    {
     "name": "stderr",
     "output_type": "stream",
     "text": [
      "100%|██████████| 139/139 [00:51<00:00,  2.71it/s]\n"
     ]
    },
    {
     "name": "stdout",
     "output_type": "stream",
     "text": [
      "Training loss 2.383225440979004\n"
     ]
    },
    {
     "name": "stderr",
     "output_type": "stream",
     "text": [
      "100%|██████████| 139/139 [00:51<00:00,  2.70it/s]\n"
     ]
    },
    {
     "name": "stdout",
     "output_type": "stream",
     "text": [
      "Training loss 2.399661064147949\n"
     ]
    },
    {
     "name": "stderr",
     "output_type": "stream",
     "text": [
      "100%|██████████| 139/139 [00:51<00:00,  2.72it/s]\n"
     ]
    },
    {
     "name": "stdout",
     "output_type": "stream",
     "text": [
      "Training loss 2.3319642543792725\n"
     ]
    },
    {
     "name": "stderr",
     "output_type": "stream",
     "text": [
      "100%|██████████| 139/139 [00:51<00:00,  2.71it/s]\n"
     ]
    },
    {
     "name": "stdout",
     "output_type": "stream",
     "text": [
      "Training loss 2.3599488735198975\n"
     ]
    },
    {
     "name": "stderr",
     "output_type": "stream",
     "text": [
      "100%|██████████| 139/139 [00:51<00:00,  2.70it/s]\n"
     ]
    },
    {
     "name": "stdout",
     "output_type": "stream",
     "text": [
      "Training loss 2.404921531677246\n"
     ]
    },
    {
     "name": "stderr",
     "output_type": "stream",
     "text": [
      "100%|██████████| 139/139 [00:51<00:00,  2.72it/s]\n"
     ]
    },
    {
     "name": "stdout",
     "output_type": "stream",
     "text": [
      "Training loss 2.4001991748809814\n"
     ]
    },
    {
     "name": "stderr",
     "output_type": "stream",
     "text": [
      "100%|██████████| 139/139 [00:51<00:00,  2.72it/s]\n"
     ]
    },
    {
     "name": "stdout",
     "output_type": "stream",
     "text": [
      "Training loss 2.433535575866699\n"
     ]
    },
    {
     "name": "stderr",
     "output_type": "stream",
     "text": [
      "100%|██████████| 139/139 [00:51<00:00,  2.71it/s]\n"
     ]
    },
    {
     "name": "stdout",
     "output_type": "stream",
     "text": [
      "Training loss 2.463986396789551\n"
     ]
    },
    {
     "name": "stderr",
     "output_type": "stream",
     "text": [
      "100%|██████████| 139/139 [00:51<00:00,  2.71it/s]\n"
     ]
    },
    {
     "name": "stdout",
     "output_type": "stream",
     "text": [
      "Training loss 2.4650614261627197\n"
     ]
    },
    {
     "name": "stderr",
     "output_type": "stream",
     "text": [
      "100%|██████████| 139/139 [00:51<00:00,  2.70it/s]\n"
     ]
    },
    {
     "name": "stdout",
     "output_type": "stream",
     "text": [
      "Training loss 2.4032649993896484\n"
     ]
    },
    {
     "name": "stderr",
     "output_type": "stream",
     "text": [
      "100%|██████████| 139/139 [00:51<00:00,  2.72it/s]\n"
     ]
    },
    {
     "name": "stdout",
     "output_type": "stream",
     "text": [
      "Training loss 2.367421865463257\n"
     ]
    },
    {
     "name": "stderr",
     "output_type": "stream",
     "text": [
      "100%|██████████| 139/139 [00:51<00:00,  2.70it/s]\n"
     ]
    },
    {
     "name": "stdout",
     "output_type": "stream",
     "text": [
      "Training loss 2.4218456745147705\n"
     ]
    },
    {
     "name": "stderr",
     "output_type": "stream",
     "text": [
      "100%|██████████| 139/139 [00:51<00:00,  2.72it/s]\n"
     ]
    },
    {
     "name": "stdout",
     "output_type": "stream",
     "text": [
      "Training loss 2.4769539833068848\n"
     ]
    },
    {
     "name": "stderr",
     "output_type": "stream",
     "text": [
      "100%|██████████| 139/139 [00:51<00:00,  2.70it/s]\n"
     ]
    },
    {
     "name": "stdout",
     "output_type": "stream",
     "text": [
      "Training loss 2.3962392807006836\n"
     ]
    },
    {
     "name": "stderr",
     "output_type": "stream",
     "text": [
      "100%|██████████| 139/139 [00:51<00:00,  2.69it/s]\n"
     ]
    },
    {
     "name": "stdout",
     "output_type": "stream",
     "text": [
      "Training loss 2.355398416519165\n"
     ]
    },
    {
     "name": "stderr",
     "output_type": "stream",
     "text": [
      "100%|██████████| 139/139 [00:51<00:00,  2.70it/s]\n"
     ]
    },
    {
     "name": "stdout",
     "output_type": "stream",
     "text": [
      "Training loss 2.3802011013031006\n"
     ]
    },
    {
     "name": "stderr",
     "output_type": "stream",
     "text": [
      "100%|██████████| 139/139 [00:51<00:00,  2.70it/s]\n"
     ]
    },
    {
     "name": "stdout",
     "output_type": "stream",
     "text": [
      "Training loss 2.4072654247283936\n"
     ]
    },
    {
     "name": "stderr",
     "output_type": "stream",
     "text": [
      "100%|██████████| 139/139 [00:51<00:00,  2.69it/s]\n"
     ]
    },
    {
     "name": "stdout",
     "output_type": "stream",
     "text": [
      "Training loss 2.3769893646240234\n"
     ]
    },
    {
     "name": "stderr",
     "output_type": "stream",
     "text": [
      "100%|██████████| 139/139 [00:51<00:00,  2.70it/s]\n"
     ]
    },
    {
     "name": "stdout",
     "output_type": "stream",
     "text": [
      "Training loss 2.416626214981079\n"
     ]
    },
    {
     "name": "stderr",
     "output_type": "stream",
     "text": [
      "100%|██████████| 139/139 [00:51<00:00,  2.69it/s]\n"
     ]
    },
    {
     "name": "stdout",
     "output_type": "stream",
     "text": [
      "Training loss 2.3835554122924805\n"
     ]
    },
    {
     "name": "stderr",
     "output_type": "stream",
     "text": [
      "100%|██████████| 139/139 [00:51<00:00,  2.71it/s]\n"
     ]
    },
    {
     "name": "stdout",
     "output_type": "stream",
     "text": [
      "Training loss 2.49267840385437\n"
     ]
    },
    {
     "name": "stderr",
     "output_type": "stream",
     "text": [
      "100%|██████████| 139/139 [00:51<00:00,  2.69it/s]\n"
     ]
    },
    {
     "name": "stdout",
     "output_type": "stream",
     "text": [
      "Training loss 2.4046499729156494\n"
     ]
    },
    {
     "name": "stderr",
     "output_type": "stream",
     "text": [
      "100%|██████████| 139/139 [00:51<00:00,  2.70it/s]\n"
     ]
    },
    {
     "name": "stdout",
     "output_type": "stream",
     "text": [
      "Training loss 2.463934898376465\n"
     ]
    },
    {
     "name": "stderr",
     "output_type": "stream",
     "text": [
      "100%|██████████| 139/139 [00:51<00:00,  2.70it/s]\n"
     ]
    },
    {
     "name": "stdout",
     "output_type": "stream",
     "text": [
      "Training loss 2.4518511295318604\n"
     ]
    },
    {
     "name": "stderr",
     "output_type": "stream",
     "text": [
      "100%|██████████| 139/139 [00:51<00:00,  2.69it/s]\n"
     ]
    },
    {
     "name": "stdout",
     "output_type": "stream",
     "text": [
      "Training loss 2.3267135620117188\n"
     ]
    },
    {
     "name": "stderr",
     "output_type": "stream",
     "text": [
      "100%|██████████| 139/139 [00:51<00:00,  2.69it/s]\n"
     ]
    },
    {
     "name": "stdout",
     "output_type": "stream",
     "text": [
      "Training loss 2.4607973098754883\n"
     ]
    },
    {
     "name": "stderr",
     "output_type": "stream",
     "text": [
      "100%|██████████| 139/139 [00:51<00:00,  2.69it/s]\n"
     ]
    },
    {
     "name": "stdout",
     "output_type": "stream",
     "text": [
      "Training loss 2.409794569015503\n"
     ]
    },
    {
     "name": "stderr",
     "output_type": "stream",
     "text": [
      "100%|██████████| 139/139 [00:51<00:00,  2.70it/s]\n"
     ]
    },
    {
     "name": "stdout",
     "output_type": "stream",
     "text": [
      "Training loss 2.368373155593872\n"
     ]
    },
    {
     "name": "stderr",
     "output_type": "stream",
     "text": [
      "100%|██████████| 139/139 [00:51<00:00,  2.72it/s]\n"
     ]
    },
    {
     "name": "stdout",
     "output_type": "stream",
     "text": [
      "Training loss 2.337284803390503\n"
     ]
    },
    {
     "name": "stderr",
     "output_type": "stream",
     "text": [
      "100%|██████████| 139/139 [00:51<00:00,  2.70it/s]\n"
     ]
    },
    {
     "name": "stdout",
     "output_type": "stream",
     "text": [
      "Training loss 2.3610785007476807\n"
     ]
    },
    {
     "name": "stderr",
     "output_type": "stream",
     "text": [
      "100%|██████████| 139/139 [00:51<00:00,  2.71it/s]\n"
     ]
    },
    {
     "name": "stdout",
     "output_type": "stream",
     "text": [
      "Training loss 2.457327127456665\n"
     ]
    },
    {
     "name": "stderr",
     "output_type": "stream",
     "text": [
      "100%|██████████| 139/139 [00:51<00:00,  2.70it/s]\n"
     ]
    },
    {
     "name": "stdout",
     "output_type": "stream",
     "text": [
      "Training loss 2.347020149230957\n"
     ]
    },
    {
     "name": "stderr",
     "output_type": "stream",
     "text": [
      "100%|██████████| 139/139 [00:51<00:00,  2.69it/s]\n"
     ]
    },
    {
     "name": "stdout",
     "output_type": "stream",
     "text": [
      "Training loss 2.4238085746765137\n"
     ]
    },
    {
     "name": "stderr",
     "output_type": "stream",
     "text": [
      "100%|██████████| 139/139 [00:51<00:00,  2.72it/s]\n"
     ]
    },
    {
     "name": "stdout",
     "output_type": "stream",
     "text": [
      "Training loss 2.390522003173828\n"
     ]
    },
    {
     "name": "stderr",
     "output_type": "stream",
     "text": [
      "100%|██████████| 139/139 [00:51<00:00,  2.71it/s]\n"
     ]
    },
    {
     "name": "stdout",
     "output_type": "stream",
     "text": [
      "Training loss 2.4089856147766113\n"
     ]
    },
    {
     "name": "stderr",
     "output_type": "stream",
     "text": [
      "100%|██████████| 139/139 [00:51<00:00,  2.70it/s]\n"
     ]
    },
    {
     "name": "stdout",
     "output_type": "stream",
     "text": [
      "Training loss 2.3911032676696777\n"
     ]
    },
    {
     "name": "stderr",
     "output_type": "stream",
     "text": [
      "100%|██████████| 139/139 [00:51<00:00,  2.70it/s]\n"
     ]
    },
    {
     "name": "stdout",
     "output_type": "stream",
     "text": [
      "Training loss 2.309317111968994\n"
     ]
    },
    {
     "name": "stderr",
     "output_type": "stream",
     "text": [
      "100%|██████████| 139/139 [00:51<00:00,  2.71it/s]\n"
     ]
    },
    {
     "name": "stdout",
     "output_type": "stream",
     "text": [
      "Training loss 2.3337175846099854\n"
     ]
    },
    {
     "name": "stderr",
     "output_type": "stream",
     "text": [
      "100%|██████████| 139/139 [00:51<00:00,  2.69it/s]\n"
     ]
    },
    {
     "name": "stdout",
     "output_type": "stream",
     "text": [
      "Training loss 2.344980001449585\n"
     ]
    },
    {
     "name": "stderr",
     "output_type": "stream",
     "text": [
      "100%|██████████| 139/139 [00:51<00:00,  2.71it/s]\n"
     ]
    },
    {
     "name": "stdout",
     "output_type": "stream",
     "text": [
      "Training loss 2.3519539833068848\n"
     ]
    },
    {
     "name": "stderr",
     "output_type": "stream",
     "text": [
      "100%|██████████| 139/139 [00:51<00:00,  2.73it/s]\n"
     ]
    },
    {
     "name": "stdout",
     "output_type": "stream",
     "text": [
      "Training loss 2.5023953914642334\n"
     ]
    },
    {
     "name": "stderr",
     "output_type": "stream",
     "text": [
      "100%|██████████| 139/139 [00:51<00:00,  2.71it/s]\n"
     ]
    },
    {
     "name": "stdout",
     "output_type": "stream",
     "text": [
      "Training loss 2.333765745162964\n"
     ]
    },
    {
     "name": "stderr",
     "output_type": "stream",
     "text": [
      "100%|██████████| 139/139 [00:51<00:00,  2.70it/s]\n"
     ]
    },
    {
     "name": "stdout",
     "output_type": "stream",
     "text": [
      "Training loss 2.2632832527160645\n"
     ]
    },
    {
     "name": "stderr",
     "output_type": "stream",
     "text": [
      "100%|██████████| 139/139 [00:51<00:00,  2.70it/s]\n"
     ]
    },
    {
     "name": "stdout",
     "output_type": "stream",
     "text": [
      "Training loss 2.3752493858337402\n",
      "Example 1 CORRECT: Dog on a beach by the ocean\n",
      "Example 1 OUTPUT: <SOS> a brown dog is running through the water . <EOS>\n",
      "Example 2 CORRECT: Child holding red frisbee outdoors\n",
      "Example 2 OUTPUT: <SOS> a little boy in a blue shirt is playing with a ball in a park . <EOS>\n",
      "Example 3 CORRECT: Bus driving by parked cars\n",
      "Example 3 OUTPUT: <SOS> a man in a red shirt is standing on a motorcycle . <EOS>\n",
      "Example 4 CORRECT: A small boat in the ocean\n",
      "Example 4 OUTPUT: <SOS> a man in a wetsuit is surfing on a surfboard . <EOS>\n",
      "Example 5 CORRECT: A cowboy riding a horse in the desert\n",
      "Example 5 OUTPUT: <SOS> two people are walking through the snow . <EOS>\n"
     ]
    },
    {
     "name": "stderr",
     "output_type": "stream",
     "text": [
      "                                                 \r"
     ]
    },
    {
     "name": "stdout",
     "output_type": "stream",
     "text": [
      "BLUE SCORES validation  200 64.52307460937206\n"
     ]
    },
    {
     "name": "stderr",
     "output_type": "stream",
     "text": [
      "                                                   \r"
     ]
    },
    {
     "name": "stdout",
     "output_type": "stream",
     "text": [
      "BLUE SCORES TRAIN 200 68.69659456233428\n",
      "=> Saving checkpoint\n"
     ]
    },
    {
     "name": "stderr",
     "output_type": "stream",
     "text": [
      "100%|██████████| 139/139 [00:51<00:00,  2.71it/s]\n"
     ]
    },
    {
     "name": "stdout",
     "output_type": "stream",
     "text": [
      "Training loss 2.3077292442321777\n"
     ]
    },
    {
     "name": "stderr",
     "output_type": "stream",
     "text": [
      "100%|██████████| 139/139 [00:51<00:00,  2.71it/s]\n"
     ]
    },
    {
     "name": "stdout",
     "output_type": "stream",
     "text": [
      "Training loss 2.3796467781066895\n"
     ]
    },
    {
     "name": "stderr",
     "output_type": "stream",
     "text": [
      "100%|██████████| 139/139 [00:51<00:00,  2.72it/s]\n"
     ]
    },
    {
     "name": "stdout",
     "output_type": "stream",
     "text": [
      "Training loss 2.378504991531372\n"
     ]
    },
    {
     "name": "stderr",
     "output_type": "stream",
     "text": [
      "100%|██████████| 139/139 [00:51<00:00,  2.71it/s]\n"
     ]
    },
    {
     "name": "stdout",
     "output_type": "stream",
     "text": [
      "Training loss 2.3503928184509277\n"
     ]
    },
    {
     "name": "stderr",
     "output_type": "stream",
     "text": [
      "100%|██████████| 139/139 [00:51<00:00,  2.72it/s]\n"
     ]
    },
    {
     "name": "stdout",
     "output_type": "stream",
     "text": [
      "Training loss 2.3587281703948975\n"
     ]
    },
    {
     "name": "stderr",
     "output_type": "stream",
     "text": [
      "100%|██████████| 139/139 [00:51<00:00,  2.69it/s]\n"
     ]
    },
    {
     "name": "stdout",
     "output_type": "stream",
     "text": [
      "Training loss 2.2373712062835693\n"
     ]
    },
    {
     "name": "stderr",
     "output_type": "stream",
     "text": [
      "100%|██████████| 139/139 [00:51<00:00,  2.69it/s]\n"
     ]
    },
    {
     "name": "stdout",
     "output_type": "stream",
     "text": [
      "Training loss 2.332265853881836\n"
     ]
    },
    {
     "name": "stderr",
     "output_type": "stream",
     "text": [
      "100%|██████████| 139/139 [00:51<00:00,  2.69it/s]\n"
     ]
    },
    {
     "name": "stdout",
     "output_type": "stream",
     "text": [
      "Training loss 2.256037712097168\n"
     ]
    },
    {
     "name": "stderr",
     "output_type": "stream",
     "text": [
      "100%|██████████| 139/139 [00:51<00:00,  2.70it/s]\n"
     ]
    },
    {
     "name": "stdout",
     "output_type": "stream",
     "text": [
      "Training loss 2.4043171405792236\n"
     ]
    },
    {
     "name": "stderr",
     "output_type": "stream",
     "text": [
      "100%|██████████| 139/139 [00:51<00:00,  2.71it/s]\n"
     ]
    },
    {
     "name": "stdout",
     "output_type": "stream",
     "text": [
      "Training loss 2.241027355194092\n"
     ]
    },
    {
     "name": "stderr",
     "output_type": "stream",
     "text": [
      "100%|██████████| 139/139 [00:51<00:00,  2.70it/s]\n"
     ]
    },
    {
     "name": "stdout",
     "output_type": "stream",
     "text": [
      "Training loss 2.341268539428711\n"
     ]
    },
    {
     "name": "stderr",
     "output_type": "stream",
     "text": [
      "100%|██████████| 139/139 [00:51<00:00,  2.72it/s]\n"
     ]
    },
    {
     "name": "stdout",
     "output_type": "stream",
     "text": [
      "Training loss 2.3136866092681885\n"
     ]
    },
    {
     "name": "stderr",
     "output_type": "stream",
     "text": [
      "100%|██████████| 139/139 [00:51<00:00,  2.70it/s]\n"
     ]
    },
    {
     "name": "stdout",
     "output_type": "stream",
     "text": [
      "Training loss 2.1780500411987305\n"
     ]
    },
    {
     "name": "stderr",
     "output_type": "stream",
     "text": [
      "100%|██████████| 139/139 [00:51<00:00,  2.72it/s]\n"
     ]
    },
    {
     "name": "stdout",
     "output_type": "stream",
     "text": [
      "Training loss 2.241220474243164\n"
     ]
    },
    {
     "name": "stderr",
     "output_type": "stream",
     "text": [
      "100%|██████████| 139/139 [00:51<00:00,  2.72it/s]\n"
     ]
    },
    {
     "name": "stdout",
     "output_type": "stream",
     "text": [
      "Training loss 2.462735176086426\n"
     ]
    },
    {
     "name": "stderr",
     "output_type": "stream",
     "text": [
      "100%|██████████| 139/139 [00:51<00:00,  2.71it/s]\n"
     ]
    },
    {
     "name": "stdout",
     "output_type": "stream",
     "text": [
      "Training loss 2.3558907508850098\n"
     ]
    },
    {
     "name": "stderr",
     "output_type": "stream",
     "text": [
      "100%|██████████| 139/139 [00:51<00:00,  2.70it/s]\n"
     ]
    },
    {
     "name": "stdout",
     "output_type": "stream",
     "text": [
      "Training loss 2.36376690864563\n"
     ]
    },
    {
     "name": "stderr",
     "output_type": "stream",
     "text": [
      "100%|██████████| 139/139 [00:51<00:00,  2.70it/s]\n"
     ]
    },
    {
     "name": "stdout",
     "output_type": "stream",
     "text": [
      "Training loss 2.300534725189209\n"
     ]
    },
    {
     "name": "stderr",
     "output_type": "stream",
     "text": [
      "100%|██████████| 139/139 [00:51<00:00,  2.71it/s]\n"
     ]
    },
    {
     "name": "stdout",
     "output_type": "stream",
     "text": [
      "Training loss 2.2805471420288086\n"
     ]
    },
    {
     "name": "stderr",
     "output_type": "stream",
     "text": [
      "100%|██████████| 139/139 [00:51<00:00,  2.71it/s]\n"
     ]
    },
    {
     "name": "stdout",
     "output_type": "stream",
     "text": [
      "Training loss 2.35023832321167\n"
     ]
    },
    {
     "name": "stderr",
     "output_type": "stream",
     "text": [
      "100%|██████████| 139/139 [00:51<00:00,  2.69it/s]\n"
     ]
    },
    {
     "name": "stdout",
     "output_type": "stream",
     "text": [
      "Training loss 2.2375895977020264\n"
     ]
    },
    {
     "name": "stderr",
     "output_type": "stream",
     "text": [
      "100%|██████████| 139/139 [00:51<00:00,  2.71it/s]\n"
     ]
    },
    {
     "name": "stdout",
     "output_type": "stream",
     "text": [
      "Training loss 2.304307222366333\n"
     ]
    },
    {
     "name": "stderr",
     "output_type": "stream",
     "text": [
      "100%|██████████| 139/139 [00:51<00:00,  2.70it/s]\n"
     ]
    },
    {
     "name": "stdout",
     "output_type": "stream",
     "text": [
      "Training loss 2.2640843391418457\n"
     ]
    },
    {
     "name": "stderr",
     "output_type": "stream",
     "text": [
      "100%|██████████| 139/139 [00:51<00:00,  2.69it/s]\n"
     ]
    },
    {
     "name": "stdout",
     "output_type": "stream",
     "text": [
      "Training loss 2.2371487617492676\n"
     ]
    },
    {
     "name": "stderr",
     "output_type": "stream",
     "text": [
      "100%|██████████| 139/139 [00:51<00:00,  2.71it/s]\n"
     ]
    },
    {
     "name": "stdout",
     "output_type": "stream",
     "text": [
      "Training loss 2.1661088466644287\n"
     ]
    },
    {
     "name": "stderr",
     "output_type": "stream",
     "text": [
      "100%|██████████| 139/139 [00:51<00:00,  2.70it/s]\n"
     ]
    },
    {
     "name": "stdout",
     "output_type": "stream",
     "text": [
      "Training loss 2.249478578567505\n"
     ]
    },
    {
     "name": "stderr",
     "output_type": "stream",
     "text": [
      "100%|██████████| 139/139 [00:51<00:00,  2.69it/s]\n"
     ]
    },
    {
     "name": "stdout",
     "output_type": "stream",
     "text": [
      "Training loss 2.421264410018921\n"
     ]
    },
    {
     "name": "stderr",
     "output_type": "stream",
     "text": [
      "100%|██████████| 139/139 [00:51<00:00,  2.70it/s]\n"
     ]
    },
    {
     "name": "stdout",
     "output_type": "stream",
     "text": [
      "Training loss 2.3742384910583496\n"
     ]
    },
    {
     "name": "stderr",
     "output_type": "stream",
     "text": [
      "100%|██████████| 139/139 [00:51<00:00,  2.69it/s]\n"
     ]
    },
    {
     "name": "stdout",
     "output_type": "stream",
     "text": [
      "Training loss 2.374037504196167\n"
     ]
    },
    {
     "name": "stderr",
     "output_type": "stream",
     "text": [
      "100%|██████████| 139/139 [00:51<00:00,  2.71it/s]\n"
     ]
    },
    {
     "name": "stdout",
     "output_type": "stream",
     "text": [
      "Training loss 2.358518123626709\n"
     ]
    },
    {
     "name": "stderr",
     "output_type": "stream",
     "text": [
      "100%|██████████| 139/139 [00:51<00:00,  2.69it/s]\n"
     ]
    },
    {
     "name": "stdout",
     "output_type": "stream",
     "text": [
      "Training loss 2.313727617263794\n"
     ]
    },
    {
     "name": "stderr",
     "output_type": "stream",
     "text": [
      "100%|██████████| 139/139 [00:51<00:00,  2.71it/s]\n"
     ]
    },
    {
     "name": "stdout",
     "output_type": "stream",
     "text": [
      "Training loss 2.1876955032348633\n"
     ]
    },
    {
     "name": "stderr",
     "output_type": "stream",
     "text": [
      "100%|██████████| 139/139 [00:51<00:00,  2.71it/s]\n"
     ]
    },
    {
     "name": "stdout",
     "output_type": "stream",
     "text": [
      "Training loss 2.3432705402374268\n"
     ]
    },
    {
     "name": "stderr",
     "output_type": "stream",
     "text": [
      "100%|██████████| 139/139 [00:51<00:00,  2.69it/s]\n"
     ]
    },
    {
     "name": "stdout",
     "output_type": "stream",
     "text": [
      "Training loss 2.373948097229004\n"
     ]
    },
    {
     "name": "stderr",
     "output_type": "stream",
     "text": [
      "100%|██████████| 139/139 [00:51<00:00,  2.72it/s]\n"
     ]
    },
    {
     "name": "stdout",
     "output_type": "stream",
     "text": [
      "Training loss 2.294029474258423\n"
     ]
    },
    {
     "name": "stderr",
     "output_type": "stream",
     "text": [
      "100%|██████████| 139/139 [00:51<00:00,  2.70it/s]\n"
     ]
    },
    {
     "name": "stdout",
     "output_type": "stream",
     "text": [
      "Training loss 2.3534884452819824\n"
     ]
    },
    {
     "name": "stderr",
     "output_type": "stream",
     "text": [
      "100%|██████████| 139/139 [00:51<00:00,  2.71it/s]\n"
     ]
    },
    {
     "name": "stdout",
     "output_type": "stream",
     "text": [
      "Training loss 2.326349973678589\n"
     ]
    },
    {
     "name": "stderr",
     "output_type": "stream",
     "text": [
      "100%|██████████| 139/139 [00:51<00:00,  2.71it/s]\n"
     ]
    },
    {
     "name": "stdout",
     "output_type": "stream",
     "text": [
      "Training loss 2.261746406555176\n"
     ]
    },
    {
     "name": "stderr",
     "output_type": "stream",
     "text": [
      "100%|██████████| 139/139 [00:51<00:00,  2.69it/s]\n"
     ]
    },
    {
     "name": "stdout",
     "output_type": "stream",
     "text": [
      "Training loss 2.372321605682373\n"
     ]
    },
    {
     "name": "stderr",
     "output_type": "stream",
     "text": [
      "100%|██████████| 139/139 [00:51<00:00,  2.70it/s]\n"
     ]
    },
    {
     "name": "stdout",
     "output_type": "stream",
     "text": [
      "Training loss 2.2443010807037354\n"
     ]
    },
    {
     "name": "stderr",
     "output_type": "stream",
     "text": [
      "100%|██████████| 139/139 [00:51<00:00,  2.69it/s]\n"
     ]
    },
    {
     "name": "stdout",
     "output_type": "stream",
     "text": [
      "Training loss 2.1975014209747314\n"
     ]
    },
    {
     "name": "stderr",
     "output_type": "stream",
     "text": [
      "100%|██████████| 139/139 [00:51<00:00,  2.71it/s]\n"
     ]
    },
    {
     "name": "stdout",
     "output_type": "stream",
     "text": [
      "Training loss 2.212489128112793\n"
     ]
    },
    {
     "name": "stderr",
     "output_type": "stream",
     "text": [
      "100%|██████████| 139/139 [00:51<00:00,  2.70it/s]\n"
     ]
    },
    {
     "name": "stdout",
     "output_type": "stream",
     "text": [
      "Training loss 2.3954100608825684\n"
     ]
    },
    {
     "name": "stderr",
     "output_type": "stream",
     "text": [
      "100%|██████████| 139/139 [00:51<00:00,  2.69it/s]\n"
     ]
    },
    {
     "name": "stdout",
     "output_type": "stream",
     "text": [
      "Training loss 2.3685147762298584\n"
     ]
    },
    {
     "name": "stderr",
     "output_type": "stream",
     "text": [
      "100%|██████████| 139/139 [00:51<00:00,  2.70it/s]\n"
     ]
    },
    {
     "name": "stdout",
     "output_type": "stream",
     "text": [
      "Training loss 2.24245285987854\n"
     ]
    },
    {
     "name": "stderr",
     "output_type": "stream",
     "text": [
      "100%|██████████| 139/139 [00:51<00:00,  2.70it/s]\n"
     ]
    },
    {
     "name": "stdout",
     "output_type": "stream",
     "text": [
      "Training loss 2.374094247817993\n"
     ]
    },
    {
     "name": "stderr",
     "output_type": "stream",
     "text": [
      "100%|██████████| 139/139 [00:51<00:00,  2.69it/s]\n"
     ]
    },
    {
     "name": "stdout",
     "output_type": "stream",
     "text": [
      "Training loss 2.2033472061157227\n"
     ]
    },
    {
     "name": "stderr",
     "output_type": "stream",
     "text": [
      "100%|██████████| 139/139 [00:51<00:00,  2.72it/s]\n"
     ]
    },
    {
     "name": "stdout",
     "output_type": "stream",
     "text": [
      "Training loss 2.2624425888061523\n"
     ]
    },
    {
     "name": "stderr",
     "output_type": "stream",
     "text": [
      "100%|██████████| 139/139 [00:51<00:00,  2.71it/s]\n"
     ]
    },
    {
     "name": "stdout",
     "output_type": "stream",
     "text": [
      "Training loss 2.4395973682403564\n"
     ]
    },
    {
     "name": "stderr",
     "output_type": "stream",
     "text": [
      "100%|██████████| 139/139 [00:51<00:00,  2.71it/s]\n"
     ]
    },
    {
     "name": "stdout",
     "output_type": "stream",
     "text": [
      "Training loss 2.3247246742248535\n",
      "Example 1 CORRECT: Dog on a beach by the ocean\n",
      "Example 1 OUTPUT: <SOS> a brown dog is running through the water . <EOS>\n",
      "Example 2 CORRECT: Child holding red frisbee outdoors\n",
      "Example 2 OUTPUT: <SOS> a young boy in a blue shirt is playing with a ball in a park . <EOS>\n",
      "Example 3 CORRECT: Bus driving by parked cars\n",
      "Example 3 OUTPUT: <SOS> a man in a red shirt and a red shirt is standing on a motorcycle . <EOS>\n",
      "Example 4 CORRECT: A small boat in the ocean\n",
      "Example 4 OUTPUT: <SOS> a man is standing on a dock . <EOS>\n",
      "Example 5 CORRECT: A cowboy riding a horse in the desert\n",
      "Example 5 OUTPUT: <SOS> a man in a black jacket is standing on a mountain . <EOS>\n"
     ]
    },
    {
     "name": "stderr",
     "output_type": "stream",
     "text": [
      "                                                 \r"
     ]
    },
    {
     "name": "stdout",
     "output_type": "stream",
     "text": [
      "BLUE SCORES validation  250 65.09102946487012\n"
     ]
    },
    {
     "name": "stderr",
     "output_type": "stream",
     "text": [
      "                                                   \r"
     ]
    },
    {
     "name": "stdout",
     "output_type": "stream",
     "text": [
      "BLUE SCORES TRAIN 250 69.44434649023182\n",
      "=> Saving checkpoint\n"
     ]
    },
    {
     "name": "stderr",
     "output_type": "stream",
     "text": [
      "100%|██████████| 139/139 [00:51<00:00,  2.72it/s]\n"
     ]
    },
    {
     "name": "stdout",
     "output_type": "stream",
     "text": [
      "Training loss 2.2920594215393066\n"
     ]
    },
    {
     "name": "stderr",
     "output_type": "stream",
     "text": [
      "100%|██████████| 139/139 [00:51<00:00,  2.70it/s]\n"
     ]
    },
    {
     "name": "stdout",
     "output_type": "stream",
     "text": [
      "Training loss 2.3256149291992188\n"
     ]
    },
    {
     "name": "stderr",
     "output_type": "stream",
     "text": [
      "100%|██████████| 139/139 [00:51<00:00,  2.72it/s]\n"
     ]
    },
    {
     "name": "stdout",
     "output_type": "stream",
     "text": [
      "Training loss 2.2652511596679688\n"
     ]
    },
    {
     "name": "stderr",
     "output_type": "stream",
     "text": [
      "100%|██████████| 139/139 [00:51<00:00,  2.71it/s]\n"
     ]
    },
    {
     "name": "stdout",
     "output_type": "stream",
     "text": [
      "Training loss 2.271575927734375\n"
     ]
    },
    {
     "name": "stderr",
     "output_type": "stream",
     "text": [
      "100%|██████████| 139/139 [00:51<00:00,  2.70it/s]\n"
     ]
    },
    {
     "name": "stdout",
     "output_type": "stream",
     "text": [
      "Training loss 2.375351667404175\n"
     ]
    },
    {
     "name": "stderr",
     "output_type": "stream",
     "text": [
      "100%|██████████| 139/139 [00:51<00:00,  2.70it/s]\n"
     ]
    },
    {
     "name": "stdout",
     "output_type": "stream",
     "text": [
      "Training loss 2.325971841812134\n"
     ]
    },
    {
     "name": "stderr",
     "output_type": "stream",
     "text": [
      "100%|██████████| 139/139 [00:51<00:00,  2.69it/s]\n"
     ]
    },
    {
     "name": "stdout",
     "output_type": "stream",
     "text": [
      "Training loss 2.3899080753326416\n"
     ]
    },
    {
     "name": "stderr",
     "output_type": "stream",
     "text": [
      "100%|██████████| 139/139 [00:51<00:00,  2.71it/s]\n"
     ]
    },
    {
     "name": "stdout",
     "output_type": "stream",
     "text": [
      "Training loss 2.273435354232788\n"
     ]
    },
    {
     "name": "stderr",
     "output_type": "stream",
     "text": [
      "100%|██████████| 139/139 [00:51<00:00,  2.72it/s]\n"
     ]
    },
    {
     "name": "stdout",
     "output_type": "stream",
     "text": [
      "Training loss 2.2382802963256836\n"
     ]
    },
    {
     "name": "stderr",
     "output_type": "stream",
     "text": [
      "100%|██████████| 139/139 [00:51<00:00,  2.69it/s]\n"
     ]
    },
    {
     "name": "stdout",
     "output_type": "stream",
     "text": [
      "Training loss 2.2739806175231934\n"
     ]
    },
    {
     "name": "stderr",
     "output_type": "stream",
     "text": [
      "100%|██████████| 139/139 [00:51<00:00,  2.70it/s]\n"
     ]
    },
    {
     "name": "stdout",
     "output_type": "stream",
     "text": [
      "Training loss 2.302678346633911\n"
     ]
    },
    {
     "name": "stderr",
     "output_type": "stream",
     "text": [
      "100%|██████████| 139/139 [00:51<00:00,  2.71it/s]\n"
     ]
    },
    {
     "name": "stdout",
     "output_type": "stream",
     "text": [
      "Training loss 2.3667030334472656\n"
     ]
    },
    {
     "name": "stderr",
     "output_type": "stream",
     "text": [
      "100%|██████████| 139/139 [00:51<00:00,  2.71it/s]\n"
     ]
    },
    {
     "name": "stdout",
     "output_type": "stream",
     "text": [
      "Training loss 2.261029005050659\n"
     ]
    },
    {
     "name": "stderr",
     "output_type": "stream",
     "text": [
      "100%|██████████| 139/139 [00:51<00:00,  2.71it/s]\n"
     ]
    },
    {
     "name": "stdout",
     "output_type": "stream",
     "text": [
      "Training loss 2.323481798171997\n"
     ]
    },
    {
     "name": "stderr",
     "output_type": "stream",
     "text": [
      "100%|██████████| 139/139 [00:51<00:00,  2.72it/s]\n"
     ]
    },
    {
     "name": "stdout",
     "output_type": "stream",
     "text": [
      "Training loss 2.157039165496826\n"
     ]
    },
    {
     "name": "stderr",
     "output_type": "stream",
     "text": [
      "100%|██████████| 139/139 [00:51<00:00,  2.71it/s]\n"
     ]
    },
    {
     "name": "stdout",
     "output_type": "stream",
     "text": [
      "Training loss 2.3702948093414307\n"
     ]
    },
    {
     "name": "stderr",
     "output_type": "stream",
     "text": [
      "100%|██████████| 139/139 [00:51<00:00,  2.73it/s]\n"
     ]
    },
    {
     "name": "stdout",
     "output_type": "stream",
     "text": [
      "Training loss 2.2434778213500977\n"
     ]
    },
    {
     "name": "stderr",
     "output_type": "stream",
     "text": [
      "100%|██████████| 139/139 [00:51<00:00,  2.69it/s]\n"
     ]
    },
    {
     "name": "stdout",
     "output_type": "stream",
     "text": [
      "Training loss 2.3072509765625\n"
     ]
    },
    {
     "name": "stderr",
     "output_type": "stream",
     "text": [
      "100%|██████████| 139/139 [00:51<00:00,  2.70it/s]\n"
     ]
    },
    {
     "name": "stdout",
     "output_type": "stream",
     "text": [
      "Training loss 2.306252956390381\n"
     ]
    },
    {
     "name": "stderr",
     "output_type": "stream",
     "text": [
      "100%|██████████| 139/139 [00:51<00:00,  2.70it/s]\n"
     ]
    },
    {
     "name": "stdout",
     "output_type": "stream",
     "text": [
      "Training loss 2.2315750122070312\n"
     ]
    },
    {
     "name": "stderr",
     "output_type": "stream",
     "text": [
      "100%|██████████| 139/139 [00:51<00:00,  2.70it/s]\n"
     ]
    },
    {
     "name": "stdout",
     "output_type": "stream",
     "text": [
      "Training loss 2.18969988822937\n"
     ]
    },
    {
     "name": "stderr",
     "output_type": "stream",
     "text": [
      "100%|██████████| 139/139 [00:51<00:00,  2.70it/s]\n"
     ]
    },
    {
     "name": "stdout",
     "output_type": "stream",
     "text": [
      "Training loss 2.381415605545044\n"
     ]
    },
    {
     "name": "stderr",
     "output_type": "stream",
     "text": [
      "100%|██████████| 139/139 [00:51<00:00,  2.69it/s]\n"
     ]
    },
    {
     "name": "stdout",
     "output_type": "stream",
     "text": [
      "Training loss 2.1956372261047363\n"
     ]
    },
    {
     "name": "stderr",
     "output_type": "stream",
     "text": [
      "100%|██████████| 139/139 [00:51<00:00,  2.71it/s]\n"
     ]
    },
    {
     "name": "stdout",
     "output_type": "stream",
     "text": [
      "Training loss 2.272514581680298\n"
     ]
    },
    {
     "name": "stderr",
     "output_type": "stream",
     "text": [
      "100%|██████████| 139/139 [00:51<00:00,  2.70it/s]\n"
     ]
    },
    {
     "name": "stdout",
     "output_type": "stream",
     "text": [
      "Training loss 2.307643413543701\n"
     ]
    },
    {
     "name": "stderr",
     "output_type": "stream",
     "text": [
      "100%|██████████| 139/139 [00:51<00:00,  2.70it/s]\n"
     ]
    },
    {
     "name": "stdout",
     "output_type": "stream",
     "text": [
      "Training loss 2.2728796005249023\n"
     ]
    },
    {
     "name": "stderr",
     "output_type": "stream",
     "text": [
      "100%|██████████| 139/139 [00:51<00:00,  2.69it/s]\n"
     ]
    },
    {
     "name": "stdout",
     "output_type": "stream",
     "text": [
      "Training loss 2.219266176223755\n"
     ]
    },
    {
     "name": "stderr",
     "output_type": "stream",
     "text": [
      "100%|██████████| 139/139 [00:51<00:00,  2.69it/s]\n"
     ]
    },
    {
     "name": "stdout",
     "output_type": "stream",
     "text": [
      "Training loss 2.2538270950317383\n"
     ]
    },
    {
     "name": "stderr",
     "output_type": "stream",
     "text": [
      "100%|██████████| 139/139 [00:51<00:00,  2.70it/s]\n"
     ]
    },
    {
     "name": "stdout",
     "output_type": "stream",
     "text": [
      "Training loss 2.17399001121521\n"
     ]
    },
    {
     "name": "stderr",
     "output_type": "stream",
     "text": [
      "100%|██████████| 139/139 [00:51<00:00,  2.69it/s]\n"
     ]
    },
    {
     "name": "stdout",
     "output_type": "stream",
     "text": [
      "Training loss 2.2617580890655518\n"
     ]
    },
    {
     "name": "stderr",
     "output_type": "stream",
     "text": [
      "100%|██████████| 139/139 [00:51<00:00,  2.69it/s]\n"
     ]
    },
    {
     "name": "stdout",
     "output_type": "stream",
     "text": [
      "Training loss 2.3451087474823\n"
     ]
    },
    {
     "name": "stderr",
     "output_type": "stream",
     "text": [
      "100%|██████████| 139/139 [00:51<00:00,  2.72it/s]\n"
     ]
    },
    {
     "name": "stdout",
     "output_type": "stream",
     "text": [
      "Training loss 2.185770273208618\n"
     ]
    },
    {
     "name": "stderr",
     "output_type": "stream",
     "text": [
      "100%|██████████| 139/139 [00:51<00:00,  2.70it/s]\n"
     ]
    },
    {
     "name": "stdout",
     "output_type": "stream",
     "text": [
      "Training loss 2.187364339828491\n"
     ]
    },
    {
     "name": "stderr",
     "output_type": "stream",
     "text": [
      "100%|██████████| 139/139 [00:51<00:00,  2.71it/s]\n"
     ]
    },
    {
     "name": "stdout",
     "output_type": "stream",
     "text": [
      "Training loss 2.236971855163574\n"
     ]
    },
    {
     "name": "stderr",
     "output_type": "stream",
     "text": [
      "100%|██████████| 139/139 [00:51<00:00,  2.69it/s]\n"
     ]
    },
    {
     "name": "stdout",
     "output_type": "stream",
     "text": [
      "Training loss 2.394460916519165\n"
     ]
    },
    {
     "name": "stderr",
     "output_type": "stream",
     "text": [
      "100%|██████████| 139/139 [00:51<00:00,  2.69it/s]\n"
     ]
    },
    {
     "name": "stdout",
     "output_type": "stream",
     "text": [
      "Training loss 2.2880587577819824\n"
     ]
    },
    {
     "name": "stderr",
     "output_type": "stream",
     "text": [
      "100%|██████████| 139/139 [00:51<00:00,  2.70it/s]\n"
     ]
    },
    {
     "name": "stdout",
     "output_type": "stream",
     "text": [
      "Training loss 2.258474826812744\n"
     ]
    },
    {
     "name": "stderr",
     "output_type": "stream",
     "text": [
      "100%|██████████| 139/139 [00:51<00:00,  2.70it/s]\n"
     ]
    },
    {
     "name": "stdout",
     "output_type": "stream",
     "text": [
      "Training loss 2.2384026050567627\n"
     ]
    },
    {
     "name": "stderr",
     "output_type": "stream",
     "text": [
      "100%|██████████| 139/139 [00:51<00:00,  2.71it/s]\n"
     ]
    },
    {
     "name": "stdout",
     "output_type": "stream",
     "text": [
      "Training loss 2.2262814044952393\n"
     ]
    },
    {
     "name": "stderr",
     "output_type": "stream",
     "text": [
      "100%|██████████| 139/139 [00:51<00:00,  2.71it/s]\n"
     ]
    },
    {
     "name": "stdout",
     "output_type": "stream",
     "text": [
      "Training loss 2.3279542922973633\n"
     ]
    },
    {
     "name": "stderr",
     "output_type": "stream",
     "text": [
      "100%|██████████| 139/139 [00:51<00:00,  2.69it/s]\n"
     ]
    },
    {
     "name": "stdout",
     "output_type": "stream",
     "text": [
      "Training loss 2.2900123596191406\n"
     ]
    },
    {
     "name": "stderr",
     "output_type": "stream",
     "text": [
      "100%|██████████| 139/139 [00:51<00:00,  2.70it/s]\n"
     ]
    },
    {
     "name": "stdout",
     "output_type": "stream",
     "text": [
      "Training loss 2.2142927646636963\n"
     ]
    },
    {
     "name": "stderr",
     "output_type": "stream",
     "text": [
      "100%|██████████| 139/139 [00:51<00:00,  2.70it/s]\n"
     ]
    },
    {
     "name": "stdout",
     "output_type": "stream",
     "text": [
      "Training loss 2.2086429595947266\n"
     ]
    },
    {
     "name": "stderr",
     "output_type": "stream",
     "text": [
      "100%|██████████| 139/139 [00:51<00:00,  2.71it/s]\n"
     ]
    },
    {
     "name": "stdout",
     "output_type": "stream",
     "text": [
      "Training loss 2.2121670246124268\n"
     ]
    },
    {
     "name": "stderr",
     "output_type": "stream",
     "text": [
      "100%|██████████| 139/139 [00:51<00:00,  2.69it/s]\n"
     ]
    },
    {
     "name": "stdout",
     "output_type": "stream",
     "text": [
      "Training loss 2.2426416873931885\n"
     ]
    },
    {
     "name": "stderr",
     "output_type": "stream",
     "text": [
      "100%|██████████| 139/139 [00:51<00:00,  2.69it/s]\n"
     ]
    },
    {
     "name": "stdout",
     "output_type": "stream",
     "text": [
      "Training loss 2.3595991134643555\n"
     ]
    },
    {
     "name": "stderr",
     "output_type": "stream",
     "text": [
      "100%|██████████| 139/139 [00:51<00:00,  2.70it/s]\n"
     ]
    },
    {
     "name": "stdout",
     "output_type": "stream",
     "text": [
      "Training loss 2.1584460735321045\n"
     ]
    },
    {
     "name": "stderr",
     "output_type": "stream",
     "text": [
      "100%|██████████| 139/139 [00:51<00:00,  2.71it/s]\n"
     ]
    },
    {
     "name": "stdout",
     "output_type": "stream",
     "text": [
      "Training loss 2.098145008087158\n"
     ]
    },
    {
     "name": "stderr",
     "output_type": "stream",
     "text": [
      "100%|██████████| 139/139 [00:51<00:00,  2.72it/s]\n"
     ]
    },
    {
     "name": "stdout",
     "output_type": "stream",
     "text": [
      "Training loss 2.063641309738159\n"
     ]
    },
    {
     "name": "stderr",
     "output_type": "stream",
     "text": [
      "100%|██████████| 139/139 [00:51<00:00,  2.69it/s]\n"
     ]
    },
    {
     "name": "stdout",
     "output_type": "stream",
     "text": [
      "Training loss 2.1832804679870605\n",
      "Example 1 CORRECT: Dog on a beach by the ocean\n",
      "Example 1 OUTPUT: <SOS> a brown dog is running through the water . <EOS>\n",
      "Example 2 CORRECT: Child holding red frisbee outdoors\n",
      "Example 2 OUTPUT: <SOS> a little girl in a pink shirt is playing with a ball in a park . <EOS>\n",
      "Example 3 CORRECT: Bus driving by parked cars\n",
      "Example 3 OUTPUT: <SOS> a man in a red shirt and a red shirt is standing on a motorcycle . <EOS>\n",
      "Example 4 CORRECT: A small boat in the ocean\n",
      "Example 4 OUTPUT: <SOS> a man is standing on a dock . <EOS>\n",
      "Example 5 CORRECT: A cowboy riding a horse in the desert\n",
      "Example 5 OUTPUT: <SOS> a man in a red jacket is standing on a mountain . <EOS>\n"
     ]
    },
    {
     "name": "stderr",
     "output_type": "stream",
     "text": [
      "                                                 \r"
     ]
    },
    {
     "name": "stdout",
     "output_type": "stream",
     "text": [
      "BLUE SCORES validation  300 65.66297116545734\n"
     ]
    },
    {
     "name": "stderr",
     "output_type": "stream",
     "text": [
      "                                                   \r"
     ]
    },
    {
     "name": "stdout",
     "output_type": "stream",
     "text": [
      "BLUE SCORES TRAIN 300 70.03197163048456\n",
      "=> Saving checkpoint\n"
     ]
    },
    {
     "name": "stderr",
     "output_type": "stream",
     "text": [
      "100%|██████████| 139/139 [00:51<00:00,  2.70it/s]"
     ]
    },
    {
     "name": "stdout",
     "output_type": "stream",
     "text": [
      "Training loss 2.2188913822174072\n"
     ]
    },
    {
     "name": "stderr",
     "output_type": "stream",
     "text": [
      "\n"
     ]
    }
   ],
   "source": [
    "model.train()\n",
    "for epoch in range(num_epochs):\n",
    "    # Uncomment the line below to see a couple of test cases\n",
    "    if epoch %50 ==0: # modify for your case\n",
    "        print_examples(model, device, dataset)\n",
    "    \n",
    "    if epoch % 50 ==0: # modify for your case\n",
    "        # calculate BLUE score on the validation set\n",
    "        blue_score_val = evaluate_dataset_new(model, val_loader, vocab, device)\n",
    "        print('BLUE SCORES validation ', epoch, blue_score_val)\n",
    "        # calculate BLUE score on the training set\n",
    "        blue_score_train = evaluate_dataset_new(model, train_loader_eval, vocab, device)\n",
    "        print('BLUE SCORES TRAIN', epoch, blue_score_train)\n",
    "        \n",
    "        # logging\n",
    "        log_stats = {'BLUE-1-VAL': blue_score_val,\n",
    "                     'BLUE-1-TRAIN': blue_score_train,\n",
    "                    'epoch': epoch}\n",
    "        f = open(os.path.join(output_dir, \"log_blue.txt\"), \"a+\")\n",
    "        f.write(json.dumps(log_stats) + \"\\n\")\n",
    "        f.close()\n",
    "\n",
    "        # save model every epoch - modify it you do not want to save it every epoch\n",
    "        if save_model:\n",
    "            checkpoint = {\n",
    "                \"state_dict\": model.state_dict(),\n",
    "                \"optimizer\": optimizer.state_dict(),\n",
    "                \"step\": step,\n",
    "            }\n",
    "            save_checkpoint(checkpoint, filename = os.path.join(output_dir, 'checkpoints_'+str(epoch)+'.pth.tar'))\n",
    "    \n",
    "    for idx, (imgs, captions) in tqdm(\n",
    "        enumerate(train_loader), total=len(train_loader)\n",
    "    ):\n",
    "\n",
    "        imgs = imgs.to(device)\n",
    "        captions = captions.to(device)\n",
    "        outputs = model(imgs, captions[:-1])\n",
    "        loss = criterion(\n",
    "            outputs.reshape(-1, outputs.shape[2]), captions.reshape(-1)\n",
    "        )\n",
    "\n",
    "        step += 1\n",
    "\n",
    "        optimizer.zero_grad()\n",
    "        loss.backward(loss)\n",
    "        # use clip grad if needed\n",
    "        torch.nn.utils.clip_grad_norm_(model.parameters(), max_norm = 10.)\n",
    "        optimizer.step()\n",
    "        # logging\n",
    "        log_stats = {'loss': loss.item(),\n",
    "                    'epoch': epoch,\n",
    "                    'step': step}\n",
    "        f = open(os.path.join(output_dir, \"log_loss.txt\"), \"a+\")\n",
    "        f.write(json.dumps(log_stats) + \"\\n\")\n",
    "        f.close()\n",
    "    print(\"Training loss\", loss.item())"
   ]
  },
  {
   "cell_type": "markdown",
   "id": "d74f5387",
   "metadata": {},
   "source": [
    "VH: Hence, the training blue score is 70.03 and the validation blue score is 65.66."
   ]
  },
  {
   "cell_type": "markdown",
   "id": "6e7f8699",
   "metadata": {},
   "source": [
    "VH: Run the model for the test set to generate the captions."
   ]
  },
  {
   "cell_type": "code",
   "execution_count": 28,
   "id": "3971c0bf",
   "metadata": {},
   "outputs": [
    {
     "name": "stdout",
     "output_type": "stream",
     "text": [
      "1/500: flickr8k_split/test_images\\130211457_be3f6b335d.jpg => A woman in a red shirt and a white shirt is standing on a sidewalk .\n",
      "2/500: flickr8k_split/test_images\\131632409_4de0d4e710.jpg => A girl in a pink bathing suit is standing on a beach .\n",
      "3/500: flickr8k_split/test_images\\132489044_3be606baf7.jpg => A woman in a white shirt and a white shirt is sitting on a bench .\n",
      "4/500: flickr8k_split/test_images\\133189853_811de6ab2a.jpg => A man in a black shirt and sunglasses is standing in front of a crowd .\n",
      "5/500: flickr8k_split/test_images\\133905560_9d012b47f3.jpg => A white dog is running through the snow .\n",
      "6/500: flickr8k_split/test_images\\134724228_30408cd77f.jpg => A man and a woman are standing in the middle of a large body of water .\n",
      "7/500: flickr8k_split/test_images\\134894450_dadea45d65.jpg => A boy in a red shirt is jumping off a swing .\n",
      "8/500: flickr8k_split/test_images\\135235570_5698072cd4.jpg => A man in a black shirt and white shorts is standing on a sidewalk with a woman in a black shirt and a black shirt .\n",
      "9/500: flickr8k_split/test_images\\136552115_6dc3e7231c.jpg => A man in a red jacket is riding a bike on a dirt path .\n",
      "10/500: flickr8k_split/test_images\\136639119_6040b00946.jpg => A man in a blue shirt is sitting on a rock wall .\n",
      "11/500: flickr8k_split/test_images\\136644343_0e2b423829.jpg => A little girl in a pink shirt is swinging on a swing .\n",
      "12/500: flickr8k_split/test_images\\136644885_f7d2bbf546.jpg => A man in a red shirt is climbing a rock wall .\n",
      "13/500: flickr8k_split/test_images\\136886677_6026c622eb.jpg => A man in a wetsuit is standing on a dock overlooking a lake .\n",
      "14/500: flickr8k_split/test_images\\138705546_be7a6845dd.jpg => Two children are playing in the water .\n",
      "15/500: flickr8k_split/test_images\\138718600_f430ebca17.jpg => A man in a red shirt is riding a bicycle in a <unk> .\n",
      "16/500: flickr8k_split/test_images\\140377584_12bdbdf2f8.jpg => A large group of people are riding a <unk> on a dirt track .\n",
      "17/500: flickr8k_split/test_images\\140430106_2978fda105.jpg => A dog is running through the water .\n",
      "18/500: flickr8k_split/test_images\\140526326_da07305c1c.jpg => A man in a blue shirt is standing on a rock overlooking a lake .\n",
      "19/500: flickr8k_split/test_images\\140526327_3cb984de09.jpg => A man in a blue shirt is standing on a rock in the middle of a large rock .\n",
      "20/500: flickr8k_split/test_images\\141139674_246c0f90a1.jpg => A man in a blue shirt is playing with a baseball bat .\n",
      "21/500: flickr8k_split/test_images\\141140165_9002a04f19.jpg => A man in a blue shirt is playing with a ball .\n",
      "22/500: flickr8k_split/test_images\\141755290_4b954529f3.jpg => A young boy in a red shirt and blue jeans is playing with a <unk> .\n",
      "23/500: flickr8k_split/test_images\\141755292_7a0b3364cf.jpg => A woman in a white shirt and a white shirt is sitting on a bench .\n",
      "24/500: flickr8k_split/test_images\\142802798_962a4ec5ce.jpg => A skateboarder is jumping off of a ramp .\n",
      "25/500: flickr8k_split/test_images\\143237785_93f81b3201.jpg => A woman in a white shirt is standing on a dock .\n",
      "26/500: flickr8k_split/test_images\\143552697_af27e9acf5.jpg => A man in a red jacket is riding a bike on a dirt road .\n",
      "27/500: flickr8k_split/test_images\\143552829_72b6ba49d4.jpg => A man in a red shirt is riding a bike on a dirt road .\n",
      "28/500: flickr8k_split/test_images\\143680442_2f03f76944.jpg => A man in a black jacket is climbing a rock wall .\n",
      "29/500: flickr8k_split/test_images\\143680966_0010ff8c60.jpg => A man is climbing a rock face .\n",
      "30/500: flickr8k_split/test_images\\143684568_3c59299bae.jpg => A man in a black jacket is standing on a rock overlooking a valley .\n",
      "31/500: flickr8k_split/test_images\\143688205_630813a466.jpg => A man in a red shirt is climbing a rock wall .\n",
      "32/500: flickr8k_split/test_images\\143688283_a96ded20f1.jpg => A man in a red shirt is climbing a rock wall .\n",
      "33/500: flickr8k_split/test_images\\143688895_e837c3bc76.jpg => A man in a blue shirt is climbing a rock wall .\n",
      "34/500: flickr8k_split/test_images\\145721496_687af9bb18.jpg => A man is standing on a rock in the snow .\n",
      "35/500: flickr8k_split/test_images\\145721498_a27d2db576.jpg => A man in a wetsuit is surfing a canoe on a lake .\n",
      "36/500: flickr8k_split/test_images\\146098876_0d99d7fb98.jpg => A young boy in a red shirt and a red shirt is standing on a sidewalk .\n",
      "37/500: flickr8k_split/test_images\\146100443_906d87faa2.jpg => A woman in a black shirt and a white shirt is standing in front of a large crowd .\n",
      "38/500: flickr8k_split/test_images\\146577645_91b570c0d0.jpg => A man in a yellow kayak is riding a boat on a rock .\n",
      "39/500: flickr8k_split/test_images\\146577646_9e64b8c2dc.jpg => A man in a yellow kayak is surfing on a rock .\n",
      "40/500: flickr8k_split/test_images\\148512773_bae6901fd6.jpg => A man in a black jacket is standing on a rock overlooking a lake .\n",
      "41/500: flickr8k_split/test_images\\150387174_24825cf871.jpg => A man in a red jacket is riding a bike on a dirt road .\n",
      "42/500: flickr8k_split/test_images\\150582765_bad8dec237.jpg => A woman in a red shirt and blue jeans is holding a baby in a crowd .\n",
      "43/500: flickr8k_split/test_images\\152029243_b3582c36fa.jpg => A man in a red jacket is riding a bike on a dirt road .\n",
      "44/500: flickr8k_split/test_images\\154871781_ae77696b77.jpg => A young boy in a red shirt is standing on a rock in the grass .\n",
      "45/500: flickr8k_split/test_images\\155221027_b23a4331b7.jpg => A group of people are standing on a beach .\n",
      "46/500: flickr8k_split/test_images\\156967462_72db9b722c.jpg => A black and white dog is running through the water .\n",
      "47/500: flickr8k_split/test_images\\157139628_5dc483e2e4.jpg => A girl in a pink bathing suit is standing on a beach .\n",
      "48/500: flickr8k_split/test_images\\159712188_d530dd478c.jpg => A woman in a bikini is sitting on a rock in the water .\n",
      "49/500: flickr8k_split/test_images\\160541986_d5be2ab4c1.jpg => A man with a mohawk is standing in front of a large crowd .\n",
      "50/500: flickr8k_split/test_images\\160566014_59528ff897.jpg => Two men are standing in front of a building .\n",
      "51/500: flickr8k_split/test_images\\160585932_fa6339f248.jpg => A white race car is driving through the water .\n",
      "52/500: flickr8k_split/test_images\\160792599_6a7ec52516.jpg => Two people are standing on a beach .\n",
      "53/500: flickr8k_split/test_images\\160805827_5e6646b753.jpg => A man and a woman are playing in the water .\n",
      "54/500: flickr8k_split/test_images\\161669933_3e7d8c7e2c.jpg => A man is riding a motorcycle on a dirt track .\n",
      "55/500: flickr8k_split/test_images\\161905204_247c6ca6de.jpg => A girl in a red shirt is walking on a sidewalk .\n",
      "56/500: flickr8k_split/test_images\\162152393_52ecd33fc5.jpg => A group of people are standing on a dock .\n",
      "57/500: flickr8k_split/test_images\\162743064_bb242faa31.jpg => A dog is jumping over a hurdle .\n",
      "58/500: flickr8k_split/test_images\\166321294_4a5e68535f.jpg => A man in a red jacket is riding a motorcycle on a dirt track .\n",
      "59/500: flickr8k_split/test_images\\166433861_70b66cd381.jpg => A man in a red shirt is riding a motorcycle on a dirt track .\n",
      "60/500: flickr8k_split/test_images\\166507476_9be5b9852a.jpg => A girl in a blue bathing suit is jumping into a pool .\n",
      "61/500: flickr8k_split/test_images\\166654939_80ea4ddbcc.jpg => A race car is driving a race .\n",
      "62/500: flickr8k_split/test_images\\167295035_336f5f5f27.jpg => A man in a red shirt is climbing a rock wall .\n",
      "63/500: flickr8k_split/test_images\\169490297_b6ff13632a.jpg => A boy in a red shirt is running on a sidewalk .\n",
      "64/500: flickr8k_split/test_images\\170100272_d820db2199.jpg => A man in a red shirt is jumping over a railing .\n",
      "65/500: flickr8k_split/test_images\\171488318_fb26af58e2.jpg => A dog is walking through the snow .\n",
      "66/500: flickr8k_split/test_images\\172092461_a9a9762e13.jpg => A girl in a red shirt is jumping into the air .\n",
      "67/500: flickr8k_split/test_images\\172092464_d9eb4f4f2f.jpg => A boy in a blue shirt is standing on a dock .\n",
      "68/500: flickr8k_split/test_images\\172097782_f0844ec317.jpg => A man in a wetsuit is surfing a canoe in a lake .\n",
      "69/500: flickr8k_split/test_images\\172097783_292c5413d8.jpg => A man in a wetsuit is surfing on a surfboard .\n",
      "70/500: flickr8k_split/test_images\\173020287_230bfc4ffc.jpg => A man and a dog are playing with a ball in a field .\n",
      "71/500: flickr8k_split/test_images\\174466741_329a52b2fe.jpg => A girl in a pink shirt is running on a sidewalk .\n",
      "72/500: flickr8k_split/test_images\\177302997_5b2d770a0a.jpg => A group of people are sitting on a bench in front of a building .\n",
      "73/500: flickr8k_split/test_images\\179009558_69be522c63.jpg => A young girl in a red shirt is riding a bicycle in a park .\n",
      "74/500: flickr8k_split/test_images\\179829865_095b040377.jpg => Two children are playing in the water .\n",
      "75/500: flickr8k_split/test_images\\180094434_b0f244832d.jpg => A man and a woman are sitting on a bench .\n",
      "76/500: flickr8k_split/test_images\\180506881_de0f59770f.jpg => A man in a red shirt is riding a bicycle down a street .\n",
      "77/500: flickr8k_split/test_images\\181103691_fb2f956abd.jpg => A group of people are standing on a street .\n",
      "78/500: flickr8k_split/test_images\\181157221_e12410ef0b.jpg => Two dogs are running through a field .\n",
      "79/500: flickr8k_split/test_images\\181415975_2627aa6668.jpg => A woman in a blue shirt is riding a <unk> on a beach .\n",
      "80/500: flickr8k_split/test_images\\2257099774_37d0d3aa9a.jpg => A man in a black shirt and hat is sitting on a bench .\n",
      "81/500: flickr8k_split/test_images\\2257294002_0073263c54.jpg => A group of people are playing in a field .\n",
      "82/500: flickr8k_split/test_images\\2257631407_1529b9db39.jpg => A girl in a pink shirt is sitting on a couch with a baby in the background .\n",
      "83/500: flickr8k_split/test_images\\2257798999_d9d1b9a45a.jpg => Two dogs are playing with a toy in a field .\n",
      "84/500: flickr8k_split/test_images\\2258662398_2797d0eca8.jpg => A man in a wetsuit is surfing on a surfboard .\n",
      "85/500: flickr8k_split/test_images\\2258951972_92763fddab.jpg => Two dogs are running through a field .\n",
      "86/500: flickr8k_split/test_images\\2259203920_6b93b721ce.jpg => A dog is running through the snow .\n",
      "87/500: flickr8k_split/test_images\\2259336826_0cb294e1f7.jpg => A man and a woman are walking down a street .\n",
      "88/500: flickr8k_split/test_images\\2260369648_e21ae6494a.jpg => A young girl in a red dress is standing on a sidewalk .\n",
      "89/500: flickr8k_split/test_images\\2260560631_09093be4c6.jpg => A dog is running through the water .\n",
      "90/500: flickr8k_split/test_images\\2260649048_ae45d17e68.jpg => A black and white dog is running through a field .\n",
      "91/500: flickr8k_split/test_images\\2261169495_98254e2e66.jpg => A woman in a red shirt and a white shirt is playing with a <unk> in a <unk> .\n",
      "92/500: flickr8k_split/test_images\\2261257940_449b6e6c91.jpg => A black dog is running through a snow covered field .\n",
      "93/500: flickr8k_split/test_images\\2261346505_302c67951d.jpg => A group of people are gathered in front of a building .\n",
      "94/500: flickr8k_split/test_images\\2261550615_b6c25d987b.jpg => A man and a woman are standing in front of a crowd of people .\n",
      "95/500: flickr8k_split/test_images\\2261962622_e9318a95eb.jpg => A woman in a blue shirt is sitting on a swing .\n",
      "96/500: flickr8k_split/test_images\\2263655670_517890f5b7.jpg => A dog is running through a field .\n",
      "97/500: flickr8k_split/test_images\\2264316030_600e55748d.jpg => A dog running through a field .\n",
      "98/500: flickr8k_split/test_images\\2265096094_8cc34d669c.jpg => Three people are standing on a dock .\n",
      "99/500: flickr8k_split/test_images\\2265100168_175f8218af.jpg => A little girl in a pink shirt is playing with a tennis ball .\n",
      "100/500: flickr8k_split/test_images\\2265367960_7928c5642f.jpg => A woman in a white shirt and a white shirt is sitting on a bench .\n",
      "101/500: flickr8k_split/test_images\\2266061169_dfbf8f0595.jpg => A man in a red shirt is sitting on a skateboard .\n",
      "102/500: flickr8k_split/test_images\\2266142543_b2de18c081.jpg => A man wearing a black shirt and hat is holding a <unk> sign .\n",
      "103/500: flickr8k_split/test_images\\2266144051_614b2d62b0.jpg => A man in a red shirt is standing on a sidewalk .\n",
      "104/500: flickr8k_split/test_images\\2266901263_4324af1f03.jpg => Two men are standing in front of a large crowd .\n",
      "105/500: flickr8k_split/test_images\\2267682214_e1434d853b.jpg => A dog is chewing on a green carpet .\n",
      "106/500: flickr8k_split/test_images\\2267819545_446c5a3e18.jpg => A woman in a black jacket is holding a baby in a crowd .\n",
      "107/500: flickr8k_split/test_images\\2267923837_ae88678497.jpg => A group of young girls are sitting on a bench in front of a tree .\n",
      "108/500: flickr8k_split/test_images\\2268109835_d6edbe1c2b.jpg => A man is climbing a rock face .\n",
      "109/500: flickr8k_split/test_images\\2268115375_69884e958d.jpg => A man and a woman are walking through a field of tall grass .\n",
      "110/500: flickr8k_split/test_images\\2268596214_ca532f5c63.jpg => A man in a blue shirt and blue jeans is sitting on a stool .\n",
      "111/500: flickr8k_split/test_images\\2268601066_b018b124fd.jpg => A man in a white shirt and a hat is sitting on a bench .\n",
      "112/500: flickr8k_split/test_images\\2268729848_d418451226.jpg => Two people are sitting on a bench outside .\n",
      "113/500: flickr8k_split/test_images\\2269021076_cefc9af989.jpg => A man in a red shirt is riding a skateboard on a ramp .\n",
      "114/500: flickr8k_split/test_images\\2269795781_46a296aa21.jpg => A man in a blue shirt and white shorts is playing with a tennis ball .\n",
      "115/500: flickr8k_split/test_images\\2269961438_cae7a9c725.jpg => A dog is running through a field .\n",
      "116/500: flickr8k_split/test_images\\2270483627_16fe41b063.jpg => A dog is jumping into the water .\n",
      "117/500: flickr8k_split/test_images\\2271264741_aa8f73f87c.jpg => A dog runs through the water .\n",
      "118/500: flickr8k_split/test_images\\2271468944_3264d29208.jpg => A girl in a pink bathing suit is standing on a dock .\n",
      "119/500: flickr8k_split/test_images\\2271667421_7b21fc23b8.jpg => A group of people are walking through snow .\n",
      "120/500: flickr8k_split/test_images\\2271671533_7538ccd556.jpg => A man is skiing down a snowy hill .\n",
      "121/500: flickr8k_split/test_images\\2271755053_e1b1ec8442.jpg => A basketball player in a red uniform is running on the field .\n",
      "122/500: flickr8k_split/test_images\\2271890493_da441718ba.jpg => A white dog is running through the water .\n",
      "123/500: flickr8k_split/test_images\\2271955077_0020b4ee0d.jpg => A person in a blue shirt is snowboarding on a snowboard .\n",
      "124/500: flickr8k_split/test_images\\2272426567_9e9fb79db0.jpg => A dog is running through the snow .\n",
      "125/500: flickr8k_split/test_images\\2272489996_95b0a62d15.jpg => A black dog is running through a field .\n",
      "126/500: flickr8k_split/test_images\\2272491304_cb7c7ed16f.jpg => A man in a black jacket is standing on a snowy mountain .\n",
      "127/500: flickr8k_split/test_images\\2272548482_0b4aec5cdd.jpg => A man in a red uniform is playing with a basketball .\n",
      "128/500: flickr8k_split/test_images\\2272750492_91e8f67328.jpg => A person in a blue shirt is snowboarding on a snowboard .\n",
      "129/500: flickr8k_split/test_images\\2272823323_3b7291cd47.jpg => Two men in a red jacket and a black jacket are standing on a snowy mountain .\n",
      "130/500: flickr8k_split/test_images\\2272967004_1531726d71.jpg => A man in a black jacket is standing on a rock overlooking a valley .\n",
      "131/500: flickr8k_split/test_images\\2273028514_d7b584f73d.jpg => A man in a white shirt and a hat is sitting on a bench .\n",
      "132/500: flickr8k_split/test_images\\2273038287_3004a72a34.jpg => A black dog is running through the grass .\n",
      "133/500: flickr8k_split/test_images\\2273105617_7c73d2d2d3.jpg => A man in a black jacket and a hat is standing on a sidewalk .\n",
      "134/500: flickr8k_split/test_images\\2273591668_069dcb4641.jpg => A black dog is running through a field .\n",
      "135/500: flickr8k_split/test_images\\2273799395_5072a5736d.jpg => A woman in a red jacket is walking down a snowy hill .\n",
      "136/500: flickr8k_split/test_images\\2273871383_1ddb3562ea.jpg => A man in a black jacket and a hat is standing in front of a brick building .\n",
      "137/500: flickr8k_split/test_images\\2274602044_b3d55df235.jpg => A dog is running through a field of grass .\n",
      "138/500: flickr8k_split/test_images\\2274992140_bb9e868bb8.jpg => A little girl in a pink shirt is swinging on a bed .\n",
      "139/500: flickr8k_split/test_images\\2275029674_6d4891c20e.jpg => Two white dogs are running through a field .\n",
      "140/500: flickr8k_split/test_images\\2275253272_00f941366e.jpg => A little girl in a pink dress is walking down a sidewalk .\n",
      "141/500: flickr8k_split/test_images\\2275372714_017c269742.jpg => A boy in a red shirt is playing in the water .\n",
      "142/500: flickr8k_split/test_images\\2276120079_4f235470bc.jpg => Two boys are playing in a field .\n",
      "143/500: flickr8k_split/test_images\\2276314067_7ee246f859.jpg => A black dog is running through a field .\n",
      "144/500: flickr8k_split/test_images\\2276499757_b44dc6f8ce.jpg => Two dogs are playing with a toy in a field .\n",
      "145/500: flickr8k_split/test_images\\2277081067_d2b4c98bce.jpg => A young boy in a blue shirt is standing on a beach .\n",
      "146/500: flickr8k_split/test_images\\2277299634_e14bdb7ff7.jpg => A man in a red shirt and hat is standing on a sidewalk .\n",
      "147/500: flickr8k_split/test_images\\2278110011_ba846e7795.jpg => A young boy in a blue shirt is playing with a toy in a park .\n",
      "148/500: flickr8k_split/test_images\\2278766574_f71f1704a8.jpg => A man and a woman are walking down a sidewalk .\n",
      "149/500: flickr8k_split/test_images\\2278776373_fe499a93be.jpg => A man in a red shirt and jeans is sitting on a bench .\n",
      "150/500: flickr8k_split/test_images\\2279496715_8ef3ee6edb.jpg => A young boy in a red shirt is standing on a rock wall .\n",
      "151/500: flickr8k_split/test_images\\2279945145_8815c59217.jpg => A dog is running through a field of grass .\n",
      "152/500: flickr8k_split/test_images\\2279980395_989d48ae72.jpg => A little boy in a red shirt and blue shorts is playing with a ball .\n",
      "153/500: flickr8k_split/test_images\\2280354512_c0d035d53f.jpg => A black and white dog is swimming in the water .\n",
      "154/500: flickr8k_split/test_images\\2280525192_81911f2b00.jpg => A black dog is running through the grass .\n",
      "155/500: flickr8k_split/test_images\\2281006675_fde04e93dd.jpg => A dog is running through the water .\n",
      "156/500: flickr8k_split/test_images\\2281054343_95d6d3b882.jpg => A man in a black jacket and a hat is standing on a bench .\n",
      "157/500: flickr8k_split/test_images\\2281075738_230892b241.jpg => A black dog is running through a field .\n",
      "158/500: flickr8k_split/test_images\\2281768510_9cc5728c55.jpg => A man in a black shirt is standing on a rocky shore .\n",
      "159/500: flickr8k_split/test_images\\2282043629_91b7831352.jpg => A group of people are walking down a snowy hill .\n",
      "160/500: flickr8k_split/test_images\\2282260240_55387258de.jpg => A little girl in a pink dress is playing with a toy in a <unk> .\n",
      "161/500: flickr8k_split/test_images\\2282522980_45cfa8e0cf.jpg => Two dogs are running through snow .\n",
      "162/500: flickr8k_split/test_images\\2282600972_c22d1e03c7.jpg => A man in a black jacket is climbing a rock wall .\n",
      "163/500: flickr8k_split/test_images\\2282895743_f803f1cf01.jpg => A man in a red shirt and hat is standing on a sidewalk with a shopping cart .\n",
      "164/500: flickr8k_split/test_images\\2283966256_70317e1759.jpg => A brown dog is running through the water .\n",
      "165/500: flickr8k_split/test_images\\2284239186_c827f4defa.jpg => A dog is standing in the grass .\n",
      "166/500: flickr8k_split/test_images\\3203872773_6c30f64be3.jpg => A man in a blue shirt is jumping over a rock wall .\n",
      "167/500: flickr8k_split/test_images\\3203878596_cbb307ce3b.jpg => Two dogs are running through the water .\n",
      "168/500: flickr8k_split/test_images\\3203908917_53e53c03d1.jpg => A man in a red shirt and a red shirt is sitting on a bench .\n",
      "169/500: flickr8k_split/test_images\\3204081508_0e7f408097.jpg => A group of children are playing in the water .\n",
      "170/500: flickr8k_split/test_images\\3204354161_caf89ec784.jpg => A man in a red shirt is riding a bike on a dirt bike .\n",
      "171/500: flickr8k_split/test_images\\3204525212_d548c7fca7.jpg => A black and white dog is jumping over a hurdle .\n",
      "172/500: flickr8k_split/test_images\\3204686006_88f04547b9.jpg => A man in a black jacket is climbing a rock wall .\n",
      "173/500: flickr8k_split/test_images\\3204712107_5a06a81002.jpg => A woman in a red and white dress is standing on a sidewalk .\n",
      "174/500: flickr8k_split/test_images\\3204922011_185e48949a.jpg => A surfer in a wetsuit is surfing in the water .\n",
      "175/500: flickr8k_split/test_images\\3205214191_29b42b9b09.jpg => A man in a red shirt is standing on a rock in the middle of a <unk> .\n",
      "176/500: flickr8k_split/test_images\\3205336477_037d4b6bd9.jpg => A man in a red shirt and a red shirt is standing on a stage .\n",
      "177/500: flickr8k_split/test_images\\3205754736_32c29b5208.jpg => A man in a red jacket and a hat is standing on a sidewalk .\n",
      "178/500: flickr8k_split/test_images\\3205839744_24504ba179.jpg => A brown dog is standing in the water .\n",
      "179/500: flickr8k_split/test_images\\3206058778_7053ee6b52.jpg => Two girls are walking down a sidewalk .\n",
      "180/500: flickr8k_split/test_images\\3206919175_e3a11b6874.jpg => A man and a woman are sitting on a stage .\n",
      "181/500: flickr8k_split/test_images\\3206999917_e682672cbc.jpg => A black dog is running through the snow .\n",
      "182/500: flickr8k_split/test_images\\3207264553_8cd4dcde53.jpg => A group of people are sitting on a dock .\n",
      "183/500: flickr8k_split/test_images\\3207343907_995f7ac1d2.jpg => A group of people are walking down a street .\n",
      "184/500: flickr8k_split/test_images\\3207358897_bfa61fa3c6.jpg => A group of children playing in a field .\n",
      "185/500: flickr8k_split/test_images\\3207654194_43d6bebd68.jpg => A small dog is running through the grass .\n",
      "186/500: flickr8k_split/test_images\\3207676216_48478bce97.jpg => A group of dogs are running through a field .\n",
      "187/500: flickr8k_split/test_images\\3207775692_bb897d9afd.jpg => Two dogs are playing with a toy in a field .\n",
      "188/500: flickr8k_split/test_images\\3208032657_27b9d6c4f3.jpg => A man is doing a trick on a skateboard .\n",
      "189/500: flickr8k_split/test_images\\3208074567_ac44aeb3f3.jpg => A boy in a blue shirt is jumping into the water .\n",
      "190/500: flickr8k_split/test_images\\3208188198_2b271d2a2e.jpg => A man in a red jacket is riding a bike through the woods .\n",
      "191/500: flickr8k_split/test_images\\3208553539_2bf6c6d162.jpg => Two men are sitting on a bench .\n",
      "192/500: flickr8k_split/test_images\\3208571574_6dc1a461c5.jpg => Two men are standing in front of a crowd .\n",
      "193/500: flickr8k_split/test_images\\3208987435_780ae35ef0.jpg => Two young boys are standing in front of a large building .\n",
      "194/500: flickr8k_split/test_images\\3208999896_dab42dc40b.jpg => A group of people are standing in front of a crowd .\n",
      "195/500: flickr8k_split/test_images\\3209350613_eb86579ee8.jpg => A man in a red shirt is skateboarding on a skateboard .\n",
      "196/500: flickr8k_split/test_images\\3209523192_05a4cef844.jpg => A snowboarder is jumping over a ramp .\n",
      "197/500: flickr8k_split/test_images\\3209564153_077ed4d246.jpg => A man in a red jacket is climbing a rock wall .\n",
      "198/500: flickr8k_split/test_images\\3209620285_edfc479392.jpg => Two people are riding horses on a dirt road .\n",
      "199/500: flickr8k_split/test_images\\3209966887_5b744bd050.jpg => A man in a red shirt is sitting on a bench with a <unk> in his hand .\n",
      "200/500: flickr8k_split/test_images\\3210359094_ee51285301.jpg => A girl in a pink jacket is climbing a rock wall .\n",
      "201/500: flickr8k_split/test_images\\3210419174_d083a16f77.jpg => Four men are standing in front of a crowd .\n",
      "202/500: flickr8k_split/test_images\\3210457502_c6030ce567.jpg => A white bird is flying through the water .\n",
      "203/500: flickr8k_split/test_images\\3210705660_2b14b7fb36.jpg => A man in a black shirt and white shorts is playing with a white dog .\n",
      "204/500: flickr8k_split/test_images\\3211029717_2affe6bbd5.jpg => A group of people are standing in the snow .\n",
      "205/500: flickr8k_split/test_images\\3211199368_ca78387f72.jpg => Two dogs are running through a field .\n",
      "206/500: flickr8k_split/test_images\\3211210739_3dea005fde.jpg => A man is playing with a white and white dog .\n",
      "207/500: flickr8k_split/test_images\\3211289105_e0360a9c7f.jpg => Two women in a white dress and a white shirt are smiling .\n",
      "208/500: flickr8k_split/test_images\\3211316116_a2462e327d.jpg => A man in a wetsuit is surfing on a surfboard .\n",
      "209/500: flickr8k_split/test_images\\3211437611_bd4af3730b.jpg => A group of people sit on a bench with a woman in a black shirt .\n",
      "210/500: flickr8k_split/test_images\\3211453055_05cbfe37cd.jpg => A man is doing a trick on a skateboard .\n",
      "211/500: flickr8k_split/test_images\\3211556865_d1d9becf69.jpg => A man in a blue shirt is standing on a rock in the woods .\n",
      "212/500: flickr8k_split/test_images\\3211577298_14296db6fd.jpg => A man in a wetsuit is surfing on a surfboard .\n",
      "213/500: flickr8k_split/test_images\\3211581957_df2f7e2236.jpg => A man is standing on a bench in front of a building .\n",
      "214/500: flickr8k_split/test_images\\3212085754_35fdc9ccaa.jpg => A woman in a white shirt and a white shirt is sitting on a bench .\n",
      "215/500: flickr8k_split/test_images\\3212456649_40a3052682.jpg => A dog is running through the snow .\n",
      "216/500: flickr8k_split/test_images\\3365198533_539073002b.jpg => A black and white dog is running through a field of snow .\n",
      "217/500: flickr8k_split/test_images\\3365602213_dd3287a633.jpg => A man is doing a trick on a skateboard .\n",
      "218/500: flickr8k_split/test_images\\3366105287_49a4bf71c6.jpg => A skateboarder is jumping off of a ramp .\n",
      "219/500: flickr8k_split/test_images\\3366571152_20afb88ac1.jpg => A man and a woman are sitting on a bench .\n",
      "220/500: flickr8k_split/test_images\\3367034082_31658a89bb.jpg => A woman in a red shirt and a red shirt is walking down a street .\n",
      "221/500: flickr8k_split/test_images\\3367053761_8ec5834bf3.jpg => A man is sitting on a bench with a <unk> in his hand .\n",
      "222/500: flickr8k_split/test_images\\3367851138_757d6bd2ef.jpg => A man in a red shirt and a red shirt is sitting on a bench .\n",
      "223/500: flickr8k_split/test_images\\3368207495_1e2dbd6d3f.jpg => A dog is running through a field of grass .\n",
      "224/500: flickr8k_split/test_images\\3368671163_0171259581.jpg => A white dog is running through the snow .\n",
      "225/500: flickr8k_split/test_images\\3368819708_0bfa0808f8.jpg => A man is snowboarding on a snowboard .\n",
      "226/500: flickr8k_split/test_images\\3375134059_7e9eb2ef01.jpg => A dog is running through a field of grass .\n",
      "227/500: flickr8k_split/test_images\\3375534917_62350bd06b.jpg => Two people are standing on a beach .\n",
      "228/500: flickr8k_split/test_images\\3375549004_beee810e60.jpg => A group of people are standing in front of a crowd .\n",
      "229/500: flickr8k_split/test_images\\3375843443_8d9b242aa5.jpg => A man is doing a trick on a skateboard .\n",
      "230/500: flickr8k_split/test_images\\3375920709_ef7370fa09.jpg => A black dog is running through the snow .\n",
      "231/500: flickr8k_split/test_images\\3375991133_87d7c40925.jpg => A group of people are standing on a beach .\n",
      "232/500: flickr8k_split/test_images\\3376014640_ff5b00769f.jpg => A man and a woman are sitting on a dock .\n",
      "233/500: flickr8k_split/test_images\\3376435746_1593d9b243.jpg => A man in a wetsuit is surfing on a surfboard .\n",
      "234/500: flickr8k_split/test_images\\3376439178_159e4126de.jpg => A skier is airborne on a snowy mountain .\n",
      "235/500: flickr8k_split/test_images\\3376809186_4e26d880b7.jpg => Two people are riding a dirt bike in the sand .\n",
      "236/500: flickr8k_split/test_images\\3376898612_41c91de476.jpg => A man and a woman are playing with a dog .\n",
      "237/500: flickr8k_split/test_images\\3376942201_2c45d99237.jpg => A dog is sitting on a wooden floor .\n",
      "238/500: flickr8k_split/test_images\\3376972502_35e3e119cd.jpg => A person is climbing a rock wall .\n",
      "239/500: flickr8k_split/test_images\\3377117696_af91f13058.jpg => A snowboarder is jumping over a ramp .\n",
      "240/500: flickr8k_split/test_images\\3377344932_6dfce93248.jpg => A small dog is jumping over a log .\n",
      "241/500: flickr8k_split/test_images\\3377570617_d2f2225a74.jpg => Two women in a white dress and a white shirt are standing in front of a large crowd .\n",
      "242/500: flickr8k_split/test_images\\3378553508_e37e281d25.jpg => A man in a red shirt is standing on a bench .\n",
      "243/500: flickr8k_split/test_images\\3379839396_0cd84b55f1.jpg => A woman in a red jacket is sitting on a bench with a man in a red jacket .\n",
      "244/500: flickr8k_split/test_images\\3380072636_4cd59385fd.jpg => A group of men are playing basketball .\n",
      "245/500: flickr8k_split/test_images\\3380364224_2626d9d354.jpg => A snowboarder is jumping over a ramp .\n",
      "246/500: flickr8k_split/test_images\\3380407617_07b53cbcce.jpg => A man in a black jacket is climbing a rock wall .\n",
      "247/500: flickr8k_split/test_images\\3380519003_9f91d5a7fb.jpg => A dog is running through a field .\n",
      "248/500: flickr8k_split/test_images\\3380643902_7e0670f80f.jpg => A man in a red shirt is riding a bicycle down a ramp .\n",
      "249/500: flickr8k_split/test_images\\3381038951_225bb163af.jpg => A boy in a blue shirt is playing with a toy in the water .\n",
      "250/500: flickr8k_split/test_images\\3381161854_af8b05243c.jpg => Three dogs running through a field .\n",
      "251/500: flickr8k_split/test_images\\3381392182_db2c42430e.jpg => A girl in a pink shirt is standing on a beach .\n",
      "252/500: flickr8k_split/test_images\\3381584882_341ee3092f.jpg => A snowboarder is jumping over a ramp .\n",
      "253/500: flickr8k_split/test_images\\3381788544_2c50e139dd.jpg => Two young boys are standing in front of a large building .\n",
      "254/500: flickr8k_split/test_images\\3382105769_b1a4e4c60d.jpg => Two dogs are playing in the water .\n",
      "255/500: flickr8k_split/test_images\\3382303178_69b6d1bdd2.jpg => A man in a red shirt is skateboarding on a skateboard .\n",
      "256/500: flickr8k_split/test_images\\3382679230_baef3d1eaa.jpg => A young boy is sitting on a red chair .\n",
      "257/500: flickr8k_split/test_images\\3383037991_8f07784b81.jpg => A woman with a black dog is sitting on a bench .\n",
      "258/500: flickr8k_split/test_images\\3383388869_a14552e551.jpg => A dog is running through the water .\n",
      "259/500: flickr8k_split/test_images\\3383491811_fd9d3a891d.jpg => A dog is jumping over a tree .\n",
      "260/500: flickr8k_split/test_images\\3383545083_1d7c95b003.jpg => A black and white dog is running through a field of grass .\n",
      "261/500: flickr8k_split/test_images\\3384314832_dffc944152.jpg => A dog is jumping over a hurdle .\n",
      "262/500: flickr8k_split/test_images\\3384528359_e920154177.jpg => A white bird is flying through the water .\n",
      "263/500: flickr8k_split/test_images\\3384742888_85230c34d5.jpg => A black and white dog is running through a field of grass .\n",
      "264/500: flickr8k_split/test_images\\3385246141_a263d1053e.jpg => A man is riding a bicycle through a forest .\n",
      "265/500: flickr8k_split/test_images\\3385593926_d3e9c21170.jpg => A brown dog is running through the snow .\n",
      "266/500: flickr8k_split/test_images\\3385956569_a849218e34.jpg => A snowboarder is jumping over a ramp .\n",
      "267/500: flickr8k_split/test_images\\3386060324_b98fdfa449.jpg => A man in a helmet riding a bike on a dirt track .\n",
      "268/500: flickr8k_split/test_images\\3386375153_20c56d0aae.jpg => A man in a red jacket is riding a bike on a dirt path .\n",
      "269/500: flickr8k_split/test_images\\3386893620_5f0bb4e794.jpg => A man and woman are sitting on a bench .\n",
      "270/500: flickr8k_split/test_images\\3386953179_84c2d7922f.jpg => A man is skiing down a snowy hill .\n",
      "271/500: flickr8k_split/test_images\\3387542157_81bfd00072.jpg => A young boy in a red shirt is playing with a soccer ball .\n",
      "272/500: flickr8k_split/test_images\\3387630781_f421a94d9d.jpg => A baby in a blue shirt is playing with a toy in a park .\n",
      "273/500: flickr8k_split/test_images\\3387661249_33e5ba0bc5.jpg => A dog is running through a field .\n",
      "274/500: flickr8k_split/test_images\\3388094307_5a83be64a5.jpg => A man in a blue shirt is playing with a tennis ball in a field .\n",
      "275/500: flickr8k_split/test_images\\3388330419_85d72f7cda.jpg => A girl in a pink dress is playing with a toy in a <unk> .\n",
      "276/500: flickr8k_split/test_images\\3388836914_c267cf3a59.jpg => A man in a blue shirt is playing with a tennis ball .\n",
      "277/500: flickr8k_split/test_images\\3389321512_b11f499dab.jpg => A girl in a pink dress is playing with a soccer ball .\n",
      "278/500: flickr8k_split/test_images\\3389448506_7025e7cc12.jpg => A dog is running through a field .\n",
      "279/500: flickr8k_split/test_images\\3391209042_d2de8a8978.jpg => A girl in a red jacket is walking through a <unk> .\n",
      "280/500: flickr8k_split/test_images\\3391924827_53b31542ce.jpg => A man in a blue shirt is jumping over a rock wall .\n",
      "281/500: flickr8k_split/test_images\\3392019836_c7aeebca1c.jpg => A man and a woman are sitting on a bench .\n",
      "282/500: flickr8k_split/test_images\\3392293702_ccb0599857.jpg => A black dog is running through the snow .\n",
      "283/500: flickr8k_split/test_images\\3392851587_a638ff25e2.jpg => A woman in a pink shirt and jeans is standing on a swing .\n",
      "284/500: flickr8k_split/test_images\\3393035454_2d2370ffd4.jpg => A man in a red jacket is riding a bike on a mountain .\n",
      "285/500: flickr8k_split/test_images\\3393152604_27bd1037f2.jpg => A black dog is running through the water .\n",
      "286/500: flickr8k_split/test_images\\3393343330_b13df4d8ec.jpg => A group of people are sitting on a bench .\n",
      "287/500: flickr8k_split/test_images\\3393394134_0caac47e1c.jpg => A brown dog is running through the grass .\n",
      "288/500: flickr8k_split/test_images\\3393446245_37dd3f3b59.jpg => A man in a red shirt is standing on a sidewalk .\n",
      "289/500: flickr8k_split/test_images\\3393926562_66cc01b001.jpg => A woman in a red jacket is standing on a sidewalk with a shopping cart .\n",
      "290/500: flickr8k_split/test_images\\3394070357_cb2a3243fc.jpg => A dog runs through the snow .\n",
      "291/500: flickr8k_split/test_images\\3394586927_eae7732b64.jpg => A man in a red shirt and hat is sitting on a bench .\n",
      "292/500: flickr8k_split/test_images\\3394654132_9a8659605c.jpg => A man and a woman are standing on a sidewalk .\n",
      "293/500: flickr8k_split/test_images\\3394750987_a32ecc477e.jpg => A man in a red shirt is skateboarding on a skateboard .\n",
      "294/500: flickr8k_split/test_images\\3395173129_f0ac0a1ed4.jpg => Two men are standing in front of a building .\n",
      "295/500: flickr8k_split/test_images\\3396036947_0af6c3aab7.jpg => A young boy is jumping into a pool .\n",
      "296/500: flickr8k_split/test_images\\3396043950_12783c5147.jpg => A boy in a red shirt and blue jeans is standing on a sidewalk .\n",
      "297/500: flickr8k_split/test_images\\3396153660_f729d9f9b9.jpg => Two women in a white dress and a white shirt are smiling .\n",
      "298/500: flickr8k_split/test_images\\3396157719_6807d52a81.jpg => A brown dog is running through the water .\n",
      "299/500: flickr8k_split/test_images\\3396251819_1efa69310f.jpg => A man in a black shirt and blue jeans is standing on a sidewalk with a woman in a red shirt .\n",
      "300/500: flickr8k_split/test_images\\3396275223_ee080df8b5.jpg => A group of women in red dresses and a white dress are dancing in a crowd .\n",
      "301/500: flickr8k_split/test_images\\3396817186_b299ee0531.jpg => A dog runs through a field .\n",
      "302/500: flickr8k_split/test_images\\3397220683_4aca010f86.jpg => A man is surfing a wave .\n",
      "303/500: flickr8k_split/test_images\\3397228832_8ce5b1c26f.jpg => A man in a wetsuit is surfing on a surfboard .\n",
      "304/500: flickr8k_split/test_images\\3397259310_1ed1a346b5.jpg => A skateboarder is jumping over a ramp .\n",
      "305/500: flickr8k_split/test_images\\3397310901_cbef5c06ef.jpg => A man in a red shirt is skateboarding on a skateboard .\n",
      "306/500: flickr8k_split/test_images\\3397633339_d1ae6d9a0e.jpg => A man in a wetsuit is surfing a canoe in the water .\n",
      "307/500: flickr8k_split/test_images\\3397803103_8a46d716f4.jpg => A dog is running through the snow .\n",
      "308/500: flickr8k_split/test_images\\3398276602_c7d106c34f.jpg => Two men are standing in front of a building .\n",
      "309/500: flickr8k_split/test_images\\3398745929_8cd3bbb8a8.jpg => A man in a wetsuit is surfing on a surfboard .\n",
      "310/500: flickr8k_split/test_images\\3398746625_5199beea71.jpg => A man in a blue shirt is standing on a beach .\n",
      "311/500: flickr8k_split/test_images\\3398788809_25c71ba018.jpg => A group of people are standing in front of a large crowd .\n",
      "312/500: flickr8k_split/test_images\\3399028417_50a621274c.jpg => A group of people are gathered in front of a building .\n",
      "313/500: flickr8k_split/test_images\\3399284917_721aefe2a7.jpg => A girl in a pink shirt is swinging on a swing .\n",
      "314/500: flickr8k_split/test_images\\3399312265_9c74378692.jpg => Two dogs are running through a field of snow .\n",
      "315/500: flickr8k_split/test_images\\3399616238_77acf4ee12.jpg => A man in a black jacket and sunglasses is standing in front of a crowd .\n",
      "316/500: flickr8k_split/test_images\\3399618896_9ef60cd32c.jpg => A man and a woman are standing in front of a crowd of people .\n",
      "317/500: flickr8k_split/test_images\\3399798295_a452963365.jpg => Two women are posing for a picture .\n",
      "318/500: flickr8k_split/test_images\\3399843227_3b9d2a8dbf.jpg => A man and a woman are posing for a picture .\n",
      "319/500: flickr8k_split/test_images\\3399906919_bc8562b257.jpg => A man in a blue shirt is sitting on a bed .\n",
      "320/500: flickr8k_split/test_images\\3399944164_ec24123945.jpg => A man and a woman are sitting on a stage .\n",
      "321/500: flickr8k_split/test_images\\3400041870_4e7732b40f.jpg => A group of people are standing in front of a large crowd .\n",
      "322/500: flickr8k_split/test_images\\3400082864_9c737c1450.jpg => A man in a blue shirt is holding a baby in a hospital .\n",
      "323/500: flickr8k_split/test_images\\3400135828_0ac128b6eb.jpg => A black dog is running through the snow .\n",
      "324/500: flickr8k_split/test_images\\3400186336_37043a2f5b.jpg => Two children are playing in a park .\n",
      "325/500: flickr8k_split/test_images\\3400385314_a5bc062e97.jpg => A man and a woman are posing for a picture .\n",
      "326/500: flickr8k_split/test_images\\3401039304_424ffc7dbf.jpg => A man in a black jacket is climbing a rock wall .\n",
      "327/500: flickr8k_split/test_images\\3401333624_4b6af8c1d7.jpg => A snowboarder is jumping over a ramp .\n",
      "328/500: flickr8k_split/test_images\\3401437960_7da856e004.jpg => A brown dog is running through a field of grass .\n",
      "329/500: flickr8k_split/test_images\\3401548798_3a93f2caa5.jpg => A man in a wetsuit is surfing on a surfboard .\n",
      "330/500: flickr8k_split/test_images\\3401647850_685c03ffff.jpg => A brown dog is swimming in the water .\n",
      "331/500: flickr8k_split/test_images\\3401902253_cd27e6d0fe.jpg => A black dog is running through the water .\n",
      "332/500: flickr8k_split/test_images\\3402081035_a54cfab1d9.jpg => A person is standing on a rock in the middle of a <unk> .\n",
      "333/500: flickr8k_split/test_images\\3402638444_dab914a3de.jpg => A group of people sit on a bench .\n",
      "334/500: flickr8k_split/test_images\\3403263046_3cc701a07a.jpg => A man in a blue shirt and blue shorts is playing with a ball .\n",
      "335/500: flickr8k_split/test_images\\3403370354_5d266873b4.jpg => A group of people are sitting on a dock .\n",
      "336/500: flickr8k_split/test_images\\3403797144_53e49412ec.jpg => A surfer is jumping into the water .\n",
      "337/500: flickr8k_split/test_images\\3404012438_9baf8dcbaf.jpg => A dog is jumping into the water .\n",
      "338/500: flickr8k_split/test_images\\3404408360_430f73b034.jpg => Two children are playing in a <unk> .\n",
      "339/500: flickr8k_split/test_images\\3404552106_f516df0f5b.jpg => A group of women in a white dress and a white shirt are standing in front of a crowd .\n",
      "340/500: flickr8k_split/test_images\\3404870997_7b0cd755de.jpg => A group of people are sitting on a bench in front of a building .\n",
      "341/500: flickr8k_split/test_images\\3404906655_bc51c69c1e.jpg => A group of dogs are running through a field .\n",
      "342/500: flickr8k_split/test_images\\3404978479_8a81843e17.jpg => A little girl in a pink shirt is playing with a tennis ball in a pool .\n",
      "343/500: flickr8k_split/test_images\\3405011838_f81117c99f.jpg => A group of people are standing on a rock wall .\n",
      "344/500: flickr8k_split/test_images\\3405100926_e96308ce89.jpg => Two men are standing in front of a building .\n",
      "345/500: flickr8k_split/test_images\\3405113041_4b72c24801.jpg => A white bird is flying through the water .\n",
      "346/500: flickr8k_split/test_images\\3405720825_b6991005eb.jpg => A woman is standing on a beach with a dog in the sand .\n",
      "347/500: flickr8k_split/test_images\\3405759441_fb31c80240.jpg => A man in a black jacket is standing on a bench with a dog in front of a red and white building .\n",
      "348/500: flickr8k_split/test_images\\3405942945_f4af2934a6.jpg => A young girl in a pink shirt is standing on a sidewalk .\n",
      "349/500: flickr8k_split/test_images\\3406116788_c8f62e32d1.jpg => A young boy wearing a red shirt and hat is sitting on a bench .\n",
      "350/500: flickr8k_split/test_images\\3406409018_03de95181e.jpg => A hockey player in a red uniform is running on the track .\n",
      "351/500: flickr8k_split/test_images\\3406802138_ef77bbddd0.jpg => A dog runs through the water .\n",
      "352/500: flickr8k_split/test_images\\3406930103_4db7b4dde0.jpg => A dog runs through the snow .\n",
      "353/500: flickr8k_split/test_images\\3407317539_68765a3375.jpg => A white dog is running through the snow .\n",
      "354/500: flickr8k_split/test_images\\3407357681_5aeaab5b59.jpg => A brown dog is running through the water .\n",
      "355/500: flickr8k_split/test_images\\3407584080_c6abf71ae3.jpg => A snowboarder is jumping over a ramp .\n",
      "356/500: flickr8k_split/test_images\\3408130183_f038bdaa4f.jpg => A brown dog is running through the grass .\n",
      "357/500: flickr8k_split/test_images\\3408274796_0dc62225e9.jpg => A dog is running through the snow .\n",
      "358/500: flickr8k_split/test_images\\3409326324_a704565e8f.jpg => A man is standing on a rock in the snow .\n",
      "359/500: flickr8k_split/test_images\\3409506817_775e38d219.jpg => A group of people are gathered around a street .\n",
      "360/500: flickr8k_split/test_images\\3409740108_1505489537.jpg => Two dogs are running through a field .\n",
      "361/500: flickr8k_split/test_images\\3409947123_a8d07edecf.jpg => A man and a woman are sitting on a bench .\n",
      "362/500: flickr8k_split/test_images\\3410215754_5d5caeffaf.jpg => A man in a red shirt is climbing a rock wall .\n",
      "363/500: flickr8k_split/test_images\\3410899419_4f8dca6f3f.jpg => A group of children are playing in the water .\n",
      "364/500: flickr8k_split/test_images\\3410902181_b2a3c6eec9.jpg => A young girl in a pink shirt is playing with a toy in a <unk> .\n",
      "365/500: flickr8k_split/test_images\\3411022255_210eefc375.jpg => A group of people are standing in front of a crowd .\n",
      "366/500: flickr8k_split/test_images\\3411393875_a9ff73c67a.jpg => A man and a woman are posing for a picture .\n",
      "367/500: flickr8k_split/test_images\\3411579899_0f8ed09142.jpg => A man in a red jacket is riding a bike on a dirt path .\n",
      "368/500: flickr8k_split/test_images\\3411595210_8e0893b266.jpg => A dog is jumping into the water .\n",
      "369/500: flickr8k_split/test_images\\3412036192_d8cd12ed3f.jpg => A dog is running through a field .\n",
      "370/500: flickr8k_split/test_images\\3412249548_00820fc4ca.jpg => A man with a mohawk and a black shirt is standing on a cellphone .\n",
      "371/500: flickr8k_split/test_images\\3412450683_7da035f2de.jpg => A white bird is flying over a log .\n",
      "372/500: flickr8k_split/test_images\\3412822878_5d961492e5.jpg => A skateboarder is jumping over a ramp .\n",
      "373/500: flickr8k_split/test_images\\3413019648_e787f0cb88.jpg => A man in a wetsuit is surfing on a surfboard .\n",
      "374/500: flickr8k_split/test_images\\3413571342_b9855795e2.jpg => A man in a wetsuit is surfing on a surfboard .\n",
      "375/500: flickr8k_split/test_images\\3413669228_ec64efeb34.jpg => A boy in a red shirt is jumping on a trampoline .\n",
      "376/500: flickr8k_split/test_images\\3413806271_17b7e102aa.jpg => A person in a red jacket is riding a <unk> on a snowboard .\n",
      "377/500: flickr8k_split/test_images\\3413973568_6630e5cdac.jpg => A man in a wetsuit is surfing on a surfboard .\n",
      "378/500: flickr8k_split/test_images\\3414734842_beb543f400.jpg => A man and a woman are posing for a picture .\n",
      "379/500: flickr8k_split/test_images\\3415003392_139c0f3586.jpg => A man in a red shirt is riding a bike on a dirt road .\n",
      "380/500: flickr8k_split/test_images\\3415113018_7b95ddcd11.jpg => A football player in a red uniform is running on the field .\n",
      "381/500: flickr8k_split/test_images\\3415165462_e1cb536d08.jpg => A brown dog is running through a field of grass .\n",
      "382/500: flickr8k_split/test_images\\3415178926_909db9400b.jpg => A dog jumps over a hurdle .\n",
      "383/500: flickr8k_split/test_images\\3415228562_4efa9c9b70.jpg => Two girls are standing in front of a large building .\n",
      "384/500: flickr8k_split/test_images\\3415287719_3c776f370e.jpg => A young boy is jumping into the air .\n",
      "385/500: flickr8k_split/test_images\\3415311628_c220a65762.jpg => Two children are playing in a fountain .\n",
      "386/500: flickr8k_split/test_images\\3415578043_03d33e6efd.jpg => A young boy is climbing a rock wall .\n",
      "387/500: flickr8k_split/test_images\\3415589320_71a5bf64cf.jpg => A brown dog is running through a field of grass .\n",
      "388/500: flickr8k_split/test_images\\3415646718_f9f4e23a66.jpg => A man is playing with a dog in a race .\n",
      "389/500: flickr8k_split/test_images\\3415809168_af9dabdba5.jpg => Two dogs are running through a field .\n",
      "390/500: flickr8k_split/test_images\\3416013671_98b5c75046.jpg => A man in a red shirt and blue jeans is standing on a stage .\n",
      "391/500: flickr8k_split/test_images\\3416091866_a96003d652.jpg => A man and a woman are standing in front of a crowd of people .\n",
      "392/500: flickr8k_split/test_images\\3416246113_1745559b6b.jpg => A man in a blue shirt and white shorts is playing with a tennis ball .\n",
      "393/500: flickr8k_split/test_images\\3416339125_0860d3d1eb.jpg => A man in a black shirt and a hat is standing in front of a large crowd .\n",
      "394/500: flickr8k_split/test_images\\3416460533_d5819fbf69.jpg => A man is skiing down a snowy hill .\n",
      "395/500: flickr8k_split/test_images\\3417037373_67f7db2dd2.jpg => A group of people are standing in front of a crowd .\n",
      "396/500: flickr8k_split/test_images\\3417102649_5c0b2f4b4d.jpg => A black and white dog is running through a field of water .\n",
      "397/500: flickr8k_split/test_images\\3417143124_6feb8290cc.jpg => A dog is running through a field .\n",
      "398/500: flickr8k_split/test_images\\3417231408_6ce951c011.jpg => A man in a white shirt and hat is sitting on a bench .\n",
      "399/500: flickr8k_split/test_images\\3417662443_2eaea88977.jpg => A man with a mohawk is standing on a sidewalk .\n",
      "400/500: flickr8k_split/test_images\\3417672954_46b75dea8d.jpg => A man in a blue shirt is jumping over a <unk> .\n",
      "401/500: flickr8k_split/test_images\\3417788829_cfdbc34d2c.jpg => Two children are playing in a field .\n",
      "402/500: flickr8k_split/test_images\\3418504074_083f0bb68d.jpg => A black dog is running through the snow .\n",
      "403/500: flickr8k_split/test_images\\3419197575_aa5b84a9f0.jpg => A young girl wearing a red shirt is sitting on a bench .\n",
      "404/500: flickr8k_split/test_images\\3419238351_ac18b440c0.jpg => A man and a woman sitting on a bench .\n",
      "405/500: flickr8k_split/test_images\\3419634480_c390f62a6e.jpg => A black dog is running through a field .\n",
      "406/500: flickr8k_split/test_images\\3419916411_72934edcdb.jpg => A brown dog is running through the grass .\n",
      "407/500: flickr8k_split/test_images\\3420064875_0349a75d69.jpg => A dog jumps over a hurdle .\n",
      "408/500: flickr8k_split/test_images\\3420260768_26a600b844.jpg => A man in a blue shirt is playing with a ball .\n",
      "409/500: flickr8k_split/test_images\\3420278866_1d17c12713.jpg => A man in a blue shirt is playing with a tennis ball .\n",
      "410/500: flickr8k_split/test_images\\3420284416_a90af1fb7a.jpg => A man in a black shirt and white shorts is holding a <unk> .\n",
      "411/500: flickr8k_split/test_images\\3420323191_d66e003264.jpg => A man in a wetsuit is surfing on a surfboard .\n",
      "412/500: flickr8k_split/test_images\\3420338549_bd78d35243.jpg => A man and a woman are standing in front of a crowd .\n",
      "413/500: flickr8k_split/test_images\\3420469425_2980b4cd30.jpg => A group of people are standing in front of a crowd .\n",
      "414/500: flickr8k_split/test_images\\3421104520_6a71185b3c.jpg => A little girl in a pink shirt and a pink shirt is playing with a ball in a park .\n",
      "415/500: flickr8k_split/test_images\\3421129418_088af794f7.jpg => A boy in a blue shirt is jumping into a pool .\n",
      "416/500: flickr8k_split/test_images\\3421131122_2e4bde661e.jpg => A man in a wetsuit is surfing on a rock .\n",
      "417/500: flickr8k_split/test_images\\3421177332_a05741cfa4.jpg => A man in a red shirt and blue jeans is standing on a stool .\n",
      "418/500: flickr8k_split/test_images\\3421480658_b3518b6819.jpg => A woman is sitting on a bench with a dog in front of a blue and white dog .\n",
      "419/500: flickr8k_split/test_images\\3421547427_53411b6278.jpg => A man in a blue shirt is playing with a tennis ball .\n",
      "420/500: flickr8k_split/test_images\\3421706363_a3e22a4908.jpg => A man in a red shirt is riding a bicycle down a hill .\n",
      "421/500: flickr8k_split/test_images\\3421789737_f625dd17ed.jpg => A boy in a red shirt is jumping on a trampoline .\n",
      "422/500: flickr8k_split/test_images\\3421928157_69a325366f.jpg => A group of people are riding a boat on a raft .\n",
      "423/500: flickr8k_split/test_images\\3422146099_35ffc8680e.jpg => A dog jumps over a hurdle .\n",
      "424/500: flickr8k_split/test_images\\3422219732_3d0be52cc3.jpg => A man in a black jacket is climbing a rock wall .\n",
      "425/500: flickr8k_split/test_images\\3422394336_e465f60b7c.jpg => A small dog runs through the grass .\n",
      "426/500: flickr8k_split/test_images\\3422458549_f3f3878dbf.jpg => A girl in a blue shirt is playing with a tennis ball in a field .\n",
      "427/500: flickr8k_split/test_images\\3422979565_e08cd77bfe.jpg => A man in a white shirt and a white shirt is sitting on a bench .\n",
      "428/500: flickr8k_split/test_images\\3423225860_16e26eef74.jpg => A man in a blue shirt is playing with a tennis ball .\n",
      "429/500: flickr8k_split/test_images\\3423249426_02bedf9260.jpg => A woman in a red shirt and a backpack walks down a path .\n",
      "430/500: flickr8k_split/test_images\\3423509305_e399d005db.jpg => A brown dog is running through a field .\n",
      "431/500: flickr8k_split/test_images\\3423802527_94bd2b23b0.jpg => A group of people are standing in front of a crowd .\n",
      "432/500: flickr8k_split/test_images\\3424424006_98f9d1921c.jpg => A man in a blue shirt is standing on a swing .\n",
      "433/500: flickr8k_split/test_images\\3424605029_53078d3505.jpg => A little boy in a red shirt is playing with a red and white toy .\n",
      "434/500: flickr8k_split/test_images\\3424851862_0f51c42922.jpg => A man and a woman are walking down a path .\n",
      "435/500: flickr8k_split/test_images\\3424927725_c4d1fcfac3.jpg => A man in a blue shirt is climbing a rock face .\n",
      "436/500: flickr8k_split/test_images\\3424934891_69f18da66e.jpg => A black and white dog is running through a field of water .\n",
      "437/500: flickr8k_split/test_images\\3425061393_d093edb8da.jpg => A man in a blue shirt is playing with a baseball bat .\n",
      "438/500: flickr8k_split/test_images\\3425069551_aba046a1b6.jpg => A man in a black shirt and white shorts is playing with a basketball .\n",
      "439/500: flickr8k_split/test_images\\3425071001_e7c9809ef2.jpg => A man in a blue shirt and white shorts is playing with a tennis ball .\n",
      "440/500: flickr8k_split/test_images\\3425127583_611200619a.jpg => A man in a blue shirt is playing with a tennis ball .\n",
      "441/500: flickr8k_split/test_images\\3582689770_e57ab56671.jpg => A man in a red shirt is climbing a rock wall .\n",
      "442/500: flickr8k_split/test_images\\3583065748_7d149a865c.jpg => Two dogs are running through a field .\n",
      "443/500: flickr8k_split/test_images\\3586239953_da4fb3f775.jpg => A young girl in a pink shirt is playing with a ball in a field .\n",
      "444/500: flickr8k_split/test_images\\3590647207_2d4ec3f52c.jpg => A group of people are standing in a race .\n",
      "445/500: flickr8k_split/test_images\\3590653633_495de5f288.jpg => A man and a woman are riding a bike on a dirt road .\n",
      "446/500: flickr8k_split/test_images\\3590654365_fd4819f48b.jpg => A group of people are running on a track .\n",
      "447/500: flickr8k_split/test_images\\3590739067_58baffb3a7.jpg => A young boy wearing a red shirt and blue shorts is standing on a bed .\n",
      "448/500: flickr8k_split/test_images\\3590753142_61993d39df.jpg => A woman in a pink shirt and jeans is standing on a rock .\n",
      "449/500: flickr8k_split/test_images\\3591094476_b61acd63d6.jpg => Two women in a white dress and a white shirt are standing in front of a crowd .\n",
      "450/500: flickr8k_split/test_images\\3591170729_406fdb74e5.jpg => A boy in a red shirt is jumping over a pole .\n",
      "451/500: flickr8k_split/test_images\\3591457224_88281dd04f.jpg => A group of people are standing in front of a crowd .\n",
      "452/500: flickr8k_split/test_images\\3591458156_f1a9a33918.jpg => Two women in black and white dogs are running on a track .\n",
      "453/500: flickr8k_split/test_images\\3591461782_687e320042.jpg => A man in a red shirt and white shorts is running on a track .\n",
      "454/500: flickr8k_split/test_images\\3591462960_86045906bd.jpg => A man in a red jacket is standing on a motorcycle .\n",
      "455/500: flickr8k_split/test_images\\3592968286_b63c81bcd2.jpg => A man in a red shirt and a blue shirt is standing on a stage .\n",
      "456/500: flickr8k_split/test_images\\3592992234_6d3fe58a70.jpg => A young boy in a red shirt is jumping into a pool .\n",
      "457/500: flickr8k_split/test_images\\3593220756_5c416c3ceb.jpg => A person in a wetsuit is surfing on a surfboard .\n",
      "458/500: flickr8k_split/test_images\\3593222804_c187808ac3.jpg => A man in a wetsuit is surfing on a surfboard .\n",
      "459/500: flickr8k_split/test_images\\3593392955_a4125087f6.jpg => Three dogs are running through the grass .\n",
      "460/500: flickr8k_split/test_images\\3593538248_dffa1a5ed4.jpg => A hockey player in a red uniform is running on the field .\n",
      "461/500: flickr8k_split/test_images\\3593556797_46b49a02a8.jpg => A woman in a red jacket is walking down a street .\n",
      "462/500: flickr8k_split/test_images\\3594029059_cee1f4c59a.jpg => A man is throwing a stick in the air .\n",
      "463/500: flickr8k_split/test_images\\3594566537_55bd712fdb.jpg => A man in a wetsuit is surfing on a surfboard .\n",
      "464/500: flickr8k_split/test_images\\3594822096_e1144b85d6.jpg => A man in a red shirt is riding a bicycle down a ramp .\n",
      "465/500: flickr8k_split/test_images\\3595080592_5fd55570e5.jpg => Two young boys are standing in front of a large building .\n",
      "466/500: flickr8k_split/test_images\\3595216998_0a19efebd0.jpg => A black and white dog is running through a field .\n",
      "467/500: flickr8k_split/test_images\\3595398879_13e33b8916.jpg => A man in a red shirt and jeans is standing on a bench .\n",
      "468/500: flickr8k_split/test_images\\3595408539_a7d8aabc24.jpg => A man and woman pose for a picture .\n",
      "469/500: flickr8k_split/test_images\\3595412126_4020d4643b.jpg => Two girls are standing in front of a large building .\n",
      "470/500: flickr8k_split/test_images\\3595643050_d312e4b652.jpg => A dog is running through a field .\n",
      "471/500: flickr8k_split/test_images\\3595992258_6f192e6ae7.jpg => A brown dog is running through the grass .\n",
      "472/500: flickr8k_split/test_images\\3596131692_91b8a05606.jpg => A boy in a red shirt and blue shorts is playing soccer .\n",
      "473/500: flickr8k_split/test_images\\3596428453_8cfdec4869.jpg => A group of people are riding a bicycle in a race .\n",
      "474/500: flickr8k_split/test_images\\3596459539_a47aa80612.jpg => A man in a red jacket is riding a motorcycle .\n",
      "475/500: flickr8k_split/test_images\\3596959859_a7cb1e194b.jpg => A man in a black shirt and a black shirt is standing on a <unk> .\n",
      "476/500: flickr8k_split/test_images\\3597146852_3d000a5d5f.jpg => A man in a red shirt is skateboarding on a skateboard .\n",
      "477/500: flickr8k_split/test_images\\3597210806_95b07bb968.jpg => A young boy in a blue shirt is playing with a soccer ball .\n",
      "478/500: flickr8k_split/test_images\\3597326009_3678a98a43.jpg => A man in a red shirt and jeans is sitting on a bench .\n",
      "479/500: flickr8k_split/test_images\\3597354819_0069aaf16e.jpg => Two children are sitting on a rock in the water .\n",
      "480/500: flickr8k_split/test_images\\3597715122_45878432ec.jpg => A group of people are sitting on a bench .\n",
      "481/500: flickr8k_split/test_images\\3597921737_3fd1d0665b.jpg => A woman in a white dress and a black hat is standing in front of a crowd .\n",
      "482/500: flickr8k_split/test_images\\3597924257_d0da3c5fe6.jpg => A brown dog is running through a field .\n",
      "483/500: flickr8k_split/test_images\\3598447435_f66cd10bd6.jpg => A man in a yellow kayak is climbing a rock wall .\n",
      "484/500: flickr8k_split/test_images\\3599124739_b7e60cf477.jpg => Two children are playing in the water .\n",
      "485/500: flickr8k_split/test_images\\3599392711_8264881de2.jpg => Two men are standing in front of a crowd .\n",
      "486/500: flickr8k_split/test_images\\3599442049_e448c7c9b2.jpg => Two children are playing in the water .\n",
      "487/500: flickr8k_split/test_images\\3599568766_9e96def0ef.jpg => A dog is running through the water .\n",
      "488/500: flickr8k_split/test_images\\3600221224_945df01247.jpg => A brown dog is running through the snow .\n",
      "489/500: flickr8k_split/test_images\\3600403707_527aa0596e.jpg => A group of people are sitting on a bench .\n",
      "490/500: flickr8k_split/test_images\\3600909823_ce72c26e66.jpg => A man in a red shirt is skateboarding on a skateboard .\n",
      "491/500: flickr8k_split/test_images\\3601491447_a338875b51.jpg => A group of men are playing basketball .\n",
      "492/500: flickr8k_split/test_images\\3601508034_5a3bfc905e.jpg => Two men are playing basketball .\n",
      "493/500: flickr8k_split/test_images\\3601533527_6c2439113c.jpg => A man in a red shirt is sitting on a bench with his arms folded .\n",
      "494/500: flickr8k_split/test_images\\3601569729_bf4bf82768.jpg => Two people are walking through a field of snow .\n",
      "495/500: flickr8k_split/test_images\\3601803640_5f3cb05acf.jpg => A woman in a black dress and a white shirt is standing on a sidewalk .\n",
      "496/500: flickr8k_split/test_images\\3601843201_4809e66909.jpg => A man in a red jacket is riding a motorcycle .\n",
      "497/500: flickr8k_split/test_images\\3601978895_9fec23ce0c.jpg => A woman in a black jacket is sitting on a bench with a <unk> in her hand .\n",
      "498/500: flickr8k_split/test_images\\3602676311_824b2c04ba.jpg => A man in a red shirt is riding a bike on a dirt bike .\n",
      "499/500: flickr8k_split/test_images\\3602838407_bf13e49243.jpg => A black dog is running through the water .\n",
      "500/500: flickr8k_split/test_images\\3603064161_a8f3b6455d.jpg => A small child is sitting on a <unk> with a dog in the background .\n"
     ]
    }
   ],
   "source": [
    "import csv\n",
    "from PIL import Image\n",
    "import fnmatch\n",
    "\n",
    "# Open the output file in write mode\n",
    "with open('output.txt', mode='w') as file:\n",
    "    model.eval()\n",
    "\n",
    "    # Create a CSV writer object\n",
    "    writer = csv.writer(file)\n",
    "\n",
    "    # Write the header row\n",
    "    writer.writerow(['image', 'caption'])\n",
    "    directory = \"flickr8k_split/test_images\"\n",
    "    test_dir_size = count = len(fnmatch.filter(os.listdir(directory), '*.*'))\n",
    "\n",
    "    # Loop through the test images\n",
    "    for i, image_name in enumerate(os.listdir(directory)):\n",
    "        # Load the test image\n",
    "        image_path = os.path.join(directory, image_name)\n",
    "        test_img = transform(Image.open(image_path).convert(\"RGB\")).unsqueeze(0)\n",
    "\n",
    "        # Generate the caption using the model\n",
    "        caption = \" \".join(model.caption_image(test_img.to(device), dataset.vocab))\n",
    "        caption = caption[len('<SOS> '): -len(' <EOS>')].strip().capitalize()\n",
    "\n",
    "        # Write the image path and caption to the CSV file\n",
    "        writer.writerow([image_name, caption])\n",
    "\n",
    "        # Print the progress\n",
    "        print(f'{i+1}/{test_dir_size}: {image_path} => {caption}')"
   ]
  }
 ],
 "metadata": {
  "colab": {
   "provenance": []
  },
  "kernelspec": {
   "display_name": "Python 3 (ipykernel)",
   "language": "python",
   "name": "python3"
  },
  "language_info": {
   "codemirror_mode": {
    "name": "ipython",
    "version": 3
   },
   "file_extension": ".py",
   "mimetype": "text/x-python",
   "name": "python",
   "nbconvert_exporter": "python",
   "pygments_lexer": "ipython3",
   "version": "3.10.9"
  }
 },
 "nbformat": 4,
 "nbformat_minor": 5
}
